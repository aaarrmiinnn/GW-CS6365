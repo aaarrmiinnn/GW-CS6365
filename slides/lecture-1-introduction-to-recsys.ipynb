{
 "cells": [
  {
   "cell_type": "markdown",
   "metadata": {
    "colab_type": "text",
    "id": "i_f5u2x9nn6I",
    "slideshow": {
     "slide_type": "slide"
    }
   },
   "source": [
    "<left><img width=25% src=\"img/gw_monogram_2c.png\"></left>\n",
    "\n",
    "# Lecture 1: Advance Machine Learning\n",
    "\n",
    "### CS4907/CS6365 Machine Learning\n",
    "\n",
    "__Sardar Hamidian__<br>The George Washington Universiry\n",
    "\n",
    "__Armin Mehrabian__<br>The George Washington Universiry"
   ]
  },
  {
   "cell_type": "markdown",
   "metadata": {
    "slideshow": {
     "slide_type": "slide"
    }
   },
   "source": [
    "# Welcome to Advance Machine Learning!\n",
    "\n",
    "Machine learning is one of today's most exciting emerging technologies.\n",
    "\n",
    "In this course,\n",
    "* You will expand your machine learning knowledge.\n",
    "* You will learn how to ideate and execute as a machine learning expert.\n",
    "* You will learn how to apply machine learning to real-world problems (Search, Recommendation, NLP, etc.)."
   ]
  },
  {
   "cell_type": "markdown",
   "metadata": {
    "slideshow": {
     "slide_type": "slide"
    }
   },
   "source": [
    "# Welcome to Advance Machine Learning!\n",
    "\n",
    "* __Meeting time:__ Fridays 12:45pm - 15:15pm \n",
    "* __Instructors:__ \tSardar Hamidian, Armin Mehrabian  \n",
    "* __E-mails:__ \tsardar@gwu.edu, armin@gwu.edu\n",
    "* __Office hours:__ Online By appointment\n",
    "\n",
    "<center><img src=\"img/lec1-1.jpg\"/></center>\n",
    "\n"
   ]
  },
  {
   "cell_type": "markdown",
   "metadata": {
    "slideshow": {
     "slide_type": "slide"
    }
   },
   "source": [
    "# About Us:\n",
    "\n",
    "- __Sardar Hamidian:__\n",
    "> - PhD in CS from GWU\n",
    "> - Senior Principal Machine Learning Researcher at Comcast AI\n",
    "\n",
    "- __Armin Mehrabian:__\n",
    "> - PhD in CompE from GWU\n",
    "> - Senior Principal Machine Learning Data Scientist at NASA Goddard Space Flight Center\n"
   ]
  },
  {
   "cell_type": "markdown",
   "metadata": {
    "slideshow": {
     "slide_type": "slide"
    }
   },
   "source": [
    "# About the class\n",
    "\n",
    "### Syllabus\n",
    "* Posted on Blackboard\n",
    "\n",
    "### Religious holidays\n",
    "* Tell us in advance when you will be off\n",
    "\n",
    "### Disability\n",
    "*  Please bring the written statement on how to accommodate your needs\n"
   ]
  },
  {
   "cell_type": "markdown",
   "metadata": {
    "slideshow": {
     "slide_type": "slide"
    }
   },
   "source": [
    "# Prerequisites: Is This Course For You?\n",
    "\n",
    "This course is aimed at a technical audience with prior ML experience. The main requirements are:\n",
    "\n",
    "* Passed the intoduction to machine learning course before\n",
    "\n",
    "If you have not, please reach out to us after the class\n"
   ]
  },
  {
   "cell_type": "markdown",
   "metadata": {
    "slideshow": {
     "slide_type": "slide"
    }
   },
   "source": [
    "# About the class\n",
    "* Homework(35 percent of the final grade)\n",
    "* Final Project (35 percent of the final grade)\n",
    "* Quizes (30 percent of the final grade)\n"
   ]
  },
  {
   "cell_type": "markdown",
   "metadata": {
    "slideshow": {
     "slide_type": "slide"
    }
   },
   "source": [
    "# Project\n",
    "\n",
    "Course projects will be done individually in the following categories:\n",
    "* Application of machine learning on rael industry task\n",
    "* Algorithmic improvements into the representation, learning, or evaluation of machine learning models\n",
    "\n",
    "You are encouraged to choose your project, but we will make suggestions."
   ]
  },
  {
   "cell_type": "markdown",
   "metadata": {
    "slideshow": {
     "slide_type": "slide"
    }
   },
   "source": [
    "## Software You Will Use\n",
    "\n",
    "You will use Python and a wide range of machine learning, production, and graph-based tools, including:\n",
    "\n",
    "- **scikit-learn**: Implements most classical machine learning algorithms.\n",
    "- **tensorflow, pytorch**: Standard libraries for modern deep learning, including support for large-scale training and deployment.\n",
    "- **numpy, pandas**: Essential libraries for linear algebra and data processing, enabling you to implement algorithms from scratch.\n",
    "- **AWS Tools and Services**: For cloud-based storage, computation, and model deployment. Includes S3, EC2, SageMaker, and Lambda.\n",
    "- **Docker, Kubernetes**: For containerization and orchestration of models in a production environment, ensuring scalability and reproducibility.\n",
    "- **MLflow**: A platform to manage the ML lifecycle, including experimentation, reproducibility, and deployment.\n",
    "- **Hugging Face Transformers**: Tools and pre-trained models for building and fine-tuning large language models (LLMs) and other generative models.\n",
    "- **GPT-3, GPT-4 API**: For integrating advanced LLMs into your projects and exploring generative AI applications.\n",
    "- **LangChain**: Framework for developing applications powered by LLMs, with components for context management, memory, and advanced prompt engineering.\n",
    "- **Neo4**: Tools for building and querying knowledge graphs, enabling the integration of structured, semantic data into your models.\n"
   ]
  },
  {
   "cell_type": "markdown",
   "metadata": {
    "slideshow": {
     "slide_type": "slide"
    }
   },
   "source": [
    "# Background For Today's session\n",
    "Recommendation systems play an important role in many e-commerce applications as well as search and ranking services. \n",
    "There are two main strategies to perform recommendations: `content and collaborative\n",
    "filtering`. In content filtering the user creates a profile based on its interest, while\n",
    "human experts create a profile for the product. An algorithm matches the two\n",
    "profiles and recommends the closest matches to the user. "
   ]
  },
  {
   "cell_type": "markdown",
   "metadata": {
    "slideshow": {
     "slide_type": "slide"
    }
   },
   "source": [
    "# Session 1: Introduction to Recommender Systems\n",
    "\n",
    "1. Introduction: Impact of recommender systems, the recommender problem\n",
    "2. The Netflix Prize\n",
    "3. Traditional approaches to recommendation\n",
    "    * Collaborative Filtering\n",
    "    * Content-based Recommendations\n",
    "4. Hybrid recommendations\n",
    "5. A Recsys Architecture Blueprint\n",
    "6. Takeaways"
   ]
  },
  {
   "cell_type": "markdown",
   "metadata": {
    "slideshow": {
     "slide_type": "slide"
    }
   },
   "source": [
    "# The Recommender Problem!\n",
    "Traditional definition: Estimate a utility function that predicts how much a user will like an item.\n",
    "* Based on:\n",
    "    * Past behavior\n",
    "    * Relations to other users\n",
    "    * Item similarity\n",
    "    * Context"
   ]
  },
  {
   "cell_type": "markdown",
   "metadata": {
    "slideshow": {
     "slide_type": "slide"
    }
   },
   "source": [
    "# Information Overload!\n",
    "<br>\n",
    "<center><img src=\"img/24data.webp\" style=\"width:70%; height:auto;\"/></center>\n",
    "\n"
   ]
  },
  {
   "cell_type": "markdown",
   "metadata": {
    "slideshow": {
     "slide_type": "slide"
    }
   },
   "source": [
    "# Data never sleeps\n",
    "<br>\n",
    "<center><img src=\"img/domo9.png\" style=\"width:50%; height:auto;\"/></center>\n",
    "\n"
   ]
  },
  {
   "cell_type": "markdown",
   "metadata": {
    "slideshow": {
     "slide_type": "slide"
    }
   },
   "source": [
    "# Everything is Personalized\n",
    "<br>\n",
    "<center><img src=\"img/recapps.jpg\" style=\"width:70%; height:auto;\"/></center>\n",
    "\n"
   ]
  },
  {
   "cell_type": "markdown",
   "metadata": {
    "slideshow": {
     "slide_type": "slide"
    }
   },
   "source": [
    "# Recommendation as Data Mining\n",
    "\n",
    "Core of Recommendation Engine assimilated to a general data mining problem\n",
    "\n",
    "<center><img src=\"img/dmin.jpg\" style=\"width:50%; height:auto;\"/></center>\n"
   ]
  },
  {
   "cell_type": "markdown",
   "metadata": {
    "slideshow": {
     "slide_type": "slide"
    }
   },
   "source": [
    "# Serendipity!\n",
    "* Unsought finding\n",
    "* Don't recommend items the user already knows or would have found anyway.\n",
    "* Expand the user's taste into neighboring areas by improving the obvious\n",
    "* Serendipity is connected to the explore/exploit tradeoff as well as to causality of recommendations\n"
   ]
  },
  {
   "cell_type": "markdown",
   "metadata": {
    "slideshow": {
     "slide_type": "slide"
    }
   },
   "source": [
    "# Collaborative Filtering (CF) Approach\n",
    "\n",
    "In collaborative filtering, the recommendations are based only on user past\n",
    "behavior from which the future behavior is derived. The advantage of this\n",
    "approach is that it requires no external information and is not domain specific.\n",
    "\n",
    "* Depends on the domain and particular problem\n",
    "* The best isolated approach\n"
   ]
  },
  {
   "cell_type": "markdown",
   "metadata": {
    "slideshow": {
     "slide_type": "slide"
    }
   },
   "source": [
    "<!-- <left><img width=25% src=\"img/gw_monogram_2c.png\"></left>\n",
    " -->\n",
    "<center><img src=\"img/netprize.webp\" style=\"width:50%; height:auto;\"/></center>\n",
    "\n",
    "\n",
    "# Part 2: The Netflix Prize \n",
    "\n",
    "* High-quality recommendations\n",
    "* Proxy question: Accuracy in predicted rating\n",
    "* Improve by 10% = $1 million!"
   ]
  },
  {
   "cell_type": "markdown",
   "metadata": {
    "slideshow": {
     "slide_type": "slide"
    }
   },
   "source": [
    "# Contest\n",
    "\n",
    "* Given:\n",
    "    * 100M ratings on 18K movies/500K users (1999-2005)\n",
    "* Predict:\n",
    "    * Next 2.8M ratings, 6 per user With 10% better RMSE than Netflix\n",
    "    \n",
    "<center><img src=\"img/mlen.jpg\" style=\"float: center; width: 20%; height: auto;\"/></center>\n",
    "<br>"
   ]
  },
  {
   "cell_type": "markdown",
   "metadata": {
    "slideshow": {
     "slide_type": "slide"
    }
   },
   "source": [
    "# 2007 Progress Prize\n",
    "* Top 2 algorithms:\n",
    "    * SVD: Prize RMSE: 0.8914\n",
    "    * RBM: Prize RMSE: 0.8990\n",
    "\n",
    "* Linear blend Prize RMSE: 0.88\n",
    "* Used as part of Netflix’s rating prediction component\n",
    "* Limitations\n",
    "    * Designed for 100M ratings, not XB ratings\n",
    "    * Not adaptable as users add ratings\n",
    "    * Performance issues\n",
    "\n",
    "<center><img src=\"img/netflix.jpg\" style=\"width:50%; height:auto;\"/></center>\n",
    "\n"
   ]
  },
  {
   "cell_type": "markdown",
   "metadata": {
    "slideshow": {
     "slide_type": "slide"
    }
   },
   "source": [
    "# SVD/MF\n",
    "<center><img src=\"img/MF.jpg\" style=\"width:50%; height:auto;\"/></center>\n",
    "<center><img src=\"img/SVD.jpg\" style=\"width:70%; height:auto;\"/></center>\n",
    "\n",
    "\n",
    "* X: m x n matrix (e.g., m users, n videos)\n",
    "* U: m x r matrix (m users, r factors)\n",
    "* S: r x r diagonal matrix (strength of each ‘factor’) (r: rank of the matrix)\n",
    "* V: r x n matrix (n videos, r factor)\n"
   ]
  },
  {
   "cell_type": "code",
   "execution_count": 13,
   "metadata": {},
   "outputs": [
    {
     "name": "stdout",
     "output_type": "stream",
     "text": [
      "Left Singular Vectors (U):\n",
      "[[-7.88170109e-01  1.87057766e-16 -6.15457455e-01]\n",
      " [ 3.84473224e-01 -7.80868809e-01 -4.92365964e-01]\n",
      " [-4.80591530e-01 -6.24695048e-01  6.15457455e-01]]\n",
      "Singular Values (S):\n",
      "[1.62480768 1.        ]\n",
      "Right Singular Vectors (V^T):\n",
      "[[-0.78086881 -0.62469505]\n",
      " [ 0.62469505 -0.78086881]]\n"
     ]
    }
   ],
   "source": [
    "import numpy as np\n",
    "from numpy.linalg import svd\n",
    "\n",
    "# Define the matrix A\n",
    "A = np.array([[1, -0.8],\n",
    "              [0, 1],\n",
    "              [1, 0]])\n",
    "\n",
    "# Perform Singular Value Decomposition\n",
    "U, S, VT = svd(A, full_matrices=True)\n",
    "\n",
    "# Print the results\n",
    "print(\"Left Singular Vectors (U):\")\n",
    "print(U)\n",
    "\n",
    "print(\"Singular Values (S):\")\n",
    "print(S)\n",
    "\n",
    "print(\"Right Singular Vectors (V^T):\")\n",
    "print(np.transpose(VT))\n"
   ]
  },
  {
   "cell_type": "code",
   "execution_count": 8,
   "metadata": {},
   "outputs": [
    {
     "name": "stdout",
     "output_type": "stream",
     "text": [
      "[[1.62480768 0.        ]\n",
      " [0.         1.        ]\n",
      " [0.         0.        ]]\n",
      "[[ 1.00000000e+00 -8.00000000e-01]\n",
      " [ 8.93385967e-18  1.00000000e+00]\n",
      " [ 1.00000000e+00  1.23451001e-16]] \n",
      " [[ 1.  -0.8]\n",
      " [ 0.   1. ]\n",
      " [ 1.   0. ]]\n",
      "4.741952567914139e-16\n"
     ]
    }
   ],
   "source": [
    "import numpy as np\n",
    "from numpy.linalg import multi_dot, norm\n",
    "\n",
    "# Create the smat matrix\n",
    "smat = np.zeros((3, 2))\n",
    "smat[:2, :2] = np.diag(S)\n",
    "print(smat)\n",
    "\n",
    "# Reconstruct the original matrix A using U, smat, and VT\n",
    "reconstructed_A = multi_dot([U, smat, VT])\n",
    "print(reconstructed_A, '\\n', A)\n",
    "\n",
    "# Calculate the norm of the difference between A and the reconstructed matrix\n",
    "difference_norm = norm(A - reconstructed_A)\n",
    "print(difference_norm)\n"
   ]
  },
  {
   "cell_type": "code",
   "execution_count": 9,
   "metadata": {},
   "outputs": [
    {
     "name": "stdout",
     "output_type": "stream",
     "text": [
      "(5, 3) (3,) (3, 3)\n",
      "[1.57539511e+00 5.63851375e-09 3.52439559e-09]\n"
     ]
    }
   ],
   "source": [
    "import numpy as np\n",
    "from numpy.linalg import svd\n",
    "\n",
    "# Define the matrix A\n",
    "A = np.array([[0.16492833, 0.61643322, 0.27304301],\n",
    "              [0.23179766, 0.86636283, 0.38374687],\n",
    "              [0.03342004, 0.12491015, 0.05532772],\n",
    "              [0.22841804, 0.85373123, 0.37815182],\n",
    "              [0.07690245, 0.28742925, 0.12731395]])\n",
    "\n",
    "# Perform Singular Value Decomposition\n",
    "U, S, VT = svd(A, full_matrices=False)\n",
    "\n",
    "# Print the shapes of U, S, and VT\n",
    "print(U.shape, S.shape, VT.shape)\n",
    "\n",
    "# Print the singular values\n",
    "print(S)\n"
   ]
  },
  {
   "cell_type": "code",
   "execution_count": 14,
   "metadata": {},
   "outputs": [
    {
     "name": "stdout",
     "output_type": "stream",
     "text": [
      "[[ 1.         -0.8       ]\n",
      " [-0.48780488  0.3902439 ]\n",
      " [ 0.6097561  -0.48780488]]\n",
      "1.0\n"
     ]
    }
   ],
   "source": [
    "# Define the rank for approximation\n",
    "rank = 1\n",
    "\n",
    "# Extract the first 'rank' columns and rows from U, S, and VT\n",
    "U_sub = U[:, :rank]\n",
    "VT_sub = VT[:rank, :]\n",
    "S_sub = np.diag(S[:rank])\n",
    "\n",
    "# Compute the low-rank approximation of A\n",
    "A_low_rank = np.dot(np.dot(U_sub, S_sub), VT_sub)\n",
    "\n",
    "# Print the low-rank approximation of A\n",
    "print(A_low_rank)\n",
    "\n",
    "# Calculate and print the norm of the difference between the original and low-rank approximation\n",
    "from numpy.linalg import norm\n",
    "print(norm(A - A_low_rank))\n"
   ]
  },
  {
   "cell_type": "markdown",
   "metadata": {
    "slideshow": {
     "slide_type": "slide"
    }
   },
   "source": [
    "# Simon Funk’s SVD\n",
    "* One of the most interesting\n",
    "findings during the Netflix Prize\n",
    "came out of a blog post\n",
    "* Incremental, iterative, using gradient descent to perform SVD iteratively. Instead of computing the full SVD\n",
    "* Regularization:regularization term is introduced to prevent overfitting.\n",
    "* Efficiency: computationally efficient and effective in prediction accuracy"
   ]
  },
  {
   "cell_type": "markdown",
   "metadata": {
    "slideshow": {
     "slide_type": "slide"
    }
   },
   "source": [
    "# SVD for Rating Prediction\n",
    "\n",
    "- **User factor vectors**: $ p_u \\in \\mathbb{R}^f$ and item-factor vector $ q_v \\in \\mathbb{R}^f $\n",
    "\n",
    "- **Baseline (bias)**: $ b_{uv} = \\mu + b_u + b_v $ (user & item deviation from average)\n",
    "\n",
    "- **Predict rating as**: $ r'_{uv} = b_{uv} + p_u^T q_v $\n",
    "\n",
    "- **Asymmetric SVD (Koren et. Al) asymmetric variation w. implicit feedback**\n",
    "\n",
    "- **Where** $\n",
    "r'_{uv} = b_{uv} + q_v^T \\left( \\left| R(u) \\right|^{-\\frac{1}{2}} \\sum_{j \\in R(u)} (r_{uj} - b_{uj}) x_j + \\left| N(u) \\right|^{-\\frac{1}{2}} \\sum_{j \\in N(u)} y_j \\right)\n",
    "$\n",
    "\n",
    "    * $q_v, x_v, y_v \\in \\mathbb{R}^f$ are three item factor vectors\n",
    "    * Users are not parametrized, but rather represented by:\n",
    "        * R(u): items rated by user u\n",
    "        * N(u): items for which the user has given implicit preference (e.g. rated vs. not rated)\n",
    "        \n",
    "\n",
    "\n",
    "<!-- - $q_v$ : For predicting explicit ratings.\n",
    "- $x_v$: Relates to items explicitly rated by the user.\n",
    "- $y_v$: Captures implicit feedback from items the user interacted with but didn't rate. -->\n",
    "\n",
    "        \n"
   ]
  },
  {
   "cell_type": "markdown",
   "metadata": {
    "slideshow": {
     "slide_type": "slide"
    }
   },
   "source": [
    "\n",
    "# Practical Applications of SVD: \n",
    "\n",
    "* Dimensionality Reduction: SVD is often used in Principal Component Analysis (PCA) to reduce the number of features in a dataset while preserving as much variability as possible.\n",
    "* Noise Reduction: By truncating smaller singular values, you can remove noise from data while keeping the essential structure.\n",
    "* Collaborative Filtering: SVD is used in recommendation systems (like the Netflix Prize) to identify patterns in user-item matrices"
   ]
  },
  {
   "cell_type": "markdown",
   "metadata": {},
   "source": [
    "# Code for SVD"
   ]
  },
  {
   "cell_type": "code",
   "execution_count": 11,
   "metadata": {},
   "outputs": [
    {
     "name": "stdout",
     "output_type": "stream",
     "text": [
      "Original Matrix (A):\n",
      "[[1 2 3]\n",
      " [4 5 6]\n",
      " [7 8 9]]\n",
      "\n",
      "Reconstructed Matrix (A_reconstructed):\n",
      "[[1. 2. 3.]\n",
      " [4. 5. 6.]\n",
      " [7. 8. 9.]]\n",
      "\n",
      "Are they equal?  True [1.68481034e+01 1.06836951e+00 3.33475287e-16] [[-0.47967118 -0.57236779 -0.66506441]\n",
      " [-0.77669099 -0.07568647  0.62531805]\n",
      " [-0.40824829  0.81649658 -0.40824829]]\n"
     ]
    }
   ],
   "source": [
    "import numpy as np\n",
    "\n",
    "# Original Matrix\n",
    "A = np.array([[1, 2, 3],\n",
    "              [4, 5, 6],\n",
    "              [7, 8, 9]])\n",
    "\n",
    "# Perform SVD\n",
    "U, Sigma, VT = np.linalg.svd(A)\n",
    "\n",
    "# Reconstruct the original matrix using U, Sigma, and VT\n",
    "Sigma_matrix = np.zeros((U.shape[0], VT.shape[0]))\n",
    "np.fill_diagonal(Sigma_matrix, Sigma)\n",
    "A_reconstructed = np.dot(U, np.dot(Sigma_matrix, VT))\n",
    "\n",
    "# Output the results\n",
    "print(\"Original Matrix (A):\")\n",
    "print(A)\n",
    "\n",
    "print(\"\\nReconstructed Matrix (A_reconstructed):\")\n",
    "print(A_reconstructed)\n",
    "\n",
    "# Check if the original and reconstructed matrices are close\n",
    "print(\"\\nAre they equal? \", np.allclose(A, A_reconstructed), Sigma, VT)\n"
   ]
  },
  {
   "cell_type": "code",
   "execution_count": 5,
   "metadata": {},
   "outputs": [
    {
     "name": "stdout",
     "output_type": "stream",
     "text": [
      "Original Matrix (A):\n",
      "[[ 1  2  3]\n",
      " [ 4  5  6]\n",
      " [ 7  8  9]\n",
      " [10 11 12]]\n",
      "\n",
      "Reconstructed Matrix with Truncated SVD (A_reconstructed_truncated):\n",
      "[[ 1.80979033  2.06082192  2.31185351]\n",
      " [ 4.41855027  5.03143657  5.64432287]\n",
      " [ 7.02731022  8.00205122  8.97679223]\n",
      " [ 9.63607016 10.97266587 12.30926159]]\n"
     ]
    },
    {
     "data": {
      "image/png": "[encoded data removed]",
      "text/plain": [
       "<Figure size 800x400 with 4 Axes>"
      ]
     },
     "metadata": {},
     "output_type": "display_data"
    }
   ],
   "source": [
    "import numpy as np\n",
    "import matplotlib.pyplot as plt\n",
    "\n",
    "# Original Matrix\n",
    "A = np.array([[1, 2, 3],\n",
    "              [4, 5, 6],\n",
    "              [7, 8, 9],\n",
    "              [10, 11, 12]])\n",
    "\n",
    "# Perform SVD\n",
    "U, Sigma, VT = np.linalg.svd(A)\n",
    "\n",
    "# Reconstruct the matrix using only the first singular value this is called low rank approaximation\n",
    "# Why do even wanna do this?\n",
    "\n",
    "k = 1  # Only use the first singular value\n",
    "Sigma_truncated = np.zeros((U.shape[0], VT.shape[0]))\n",
    "np.fill_diagonal(Sigma_truncated[:k, :k], Sigma[:k])\n",
    "A_reconstructed_truncated = np.dot(U, np.dot(Sigma_truncated, VT))\n",
    "\n",
    "# Output the results\n",
    "print(\"Original Matrix (A):\")\n",
    "print(A)\n",
    "\n",
    "print(\"\\nReconstructed Matrix with Truncated SVD (A_reconstructed_truncated):\")\n",
    "print(A_reconstructed_truncated)\n",
    "\n",
    "# Visualize the original and reconstructed matrices\n",
    "plt.figure(figsize=(8, 4))\n",
    "\n",
    "plt.subplot(1, 2, 1)\n",
    "plt.title(\"Original Matrix A\")\n",
    "plt.imshow(A, aspect='auto', cmap='viridis')\n",
    "plt.colorbar()\n",
    "\n",
    "plt.subplot(1, 2, 2)\n",
    "plt.title(\"Truncated SVD Reconstruction\")\n",
    "plt.imshow(A_reconstructed_truncated, aspect='auto', cmap='viridis')\n",
    "plt.colorbar()\n",
    "\n",
    "plt.tight_layout()\n",
    "plt.show()\n"
   ]
  },
  {
   "cell_type": "markdown",
   "metadata": {
    "slideshow": {
     "slide_type": "slide"
    }
   },
   "source": [
    "# Restricted Boltzmann Machines\n",
    "\n",
    "* Each unit is a state that can be active or not active\n",
    "* Each input to a unit is associated with a weight\n",
    "* Transfer function $Σ$ calculates a score for every unit based on the weighted sum of inputs\n",
    "* Score is passed to the activation function $Φ$ that calculates the probability of the unit being active\n",
    "* Restrict the connectivity to make learning easier\n",
    "    * Only one layer of hidden units\n",
    "    * No connections between hidden units\n",
    "    * Hidden units are independent given visible states\n",
    "   \n",
    "<center>\n",
    "    <img src=\"img/boltzman.jpg\" style=\"width: 500px; height: auto; margin-left: 100px;\"/>\n",
    "    <br/>\n",
    "    <a href=\"https://medium.com/machine-learning-researcher/boltzmann-machine-c2ce76d94da5\" target=\"_blank\">\n",
    "        If you want to know more\n",
    "    </a>\n",
    "</center>\n",
    "\n"
   ]
  },
  {
   "cell_type": "markdown",
   "metadata": {
    "slideshow": {
     "slide_type": "slide"
    }
   },
   "source": [
    "# RBM For Recommendation\n",
    "\n",
    "* Each visible unit = an item\n",
    "* Num. of hidden units $a$ is parameter\n",
    "* In training phase, for each user:\n",
    "    * If user rated item, $v_i$ is activated\n",
    "    * Activation states of $v_i$ = inputs to $h_j$\n",
    "    * Based on activation, $h_j$ is computed\n",
    "    * Activation state of $h_j$ becomes input to $v_i$\n",
    "    * Activation state of $v_i$ is recalculated\n",
    "    * Difference between current and past activation state for $v_i$ used to update\n",
    "* weights $w_{ij}$ and thresholds\n",
    "* In prediction phase:\n",
    "    * For the items of the user the $v_i$ are activated\n",
    "    * Based on this the state of the $h_j$ is computed\n",
    "    * The activation of $h_j$ is used as input to recompute the state of $v_i$\n",
    "    * Activation probabilities are used to recommend items\n",
    "\n",
    "<div style=\"text-align: center; margin-top: 20px;\">\n",
    "    <img src=\"img/rbfrec1.jpg\" style=\"width: 400px; height: auto; display: block; margin: 10px auto;\"/>\n",
    "    <img src=\"img/rbfrec2.jpg\" style=\"width: 300px; height: auto; display: block; margin: 10px auto;\"/>\n",
    "    <img src=\"img/rbfrec3.jpg\" style=\"width: 300px; height: auto; display: block; margin: 10px auto;\"/>\n",
    "    <br/>\n",
    "    <a href=\"https://www.cs.toronto.edu/~rsalakhu/papers/rbmcf.pdf\" target=\"_blank\" style=\"display: block; margin: 20px auto;\">\n",
    "        Link to the Paper\n",
    "    </a>\n",
    "</div>\n"
   ]
  },
  {
   "cell_type": "markdown",
   "metadata": {
    "slideshow": {
     "slide_type": "slide"
    }
   },
   "source": [
    "## Recommender Systems\n",
    "* Initial production model at Netflix included a linear ensemble of both SVD++ and RBMs"
   ]
  },
  {
   "cell_type": "markdown",
   "metadata": {
    "slideshow": {
     "slide_type": "slide"
    }
   },
   "source": [
    "## What about the final prize ensembles?\n",
    "Final prize included 104 models ensembled through a single-layer ANN\n",
    "* Offline studies showed they were too computationally intensive to scale\n",
    "* Expected improvement not worth engineering effort\n",
    "* Plus…. Focus had already shifted to other issues that had more impact than rating prediction."
   ]
  },
  {
   "cell_type": "markdown",
   "metadata": {
    "slideshow": {
     "slide_type": "slide"
    }
   },
   "source": [
    "# Part 3:  Traditional Approaches to Recommender Systems\n",
    "<br>\n",
    "<center><img src=\"img/cf.jpg\" style=\"display: block; width: 80%; height: auto; margin: 0 auto;\"/></center>\n"
   ]
  },
  {
   "cell_type": "markdown",
   "metadata": {
    "slideshow": {
     "slide_type": "slide"
    }
   },
   "source": [
    "# Collaborative Filtering"
   ]
  },
  {
   "cell_type": "markdown",
   "metadata": {
    "slideshow": {
     "slide_type": "slide"
    }
   },
   "source": [
    "## The CF Ingredient\n",
    "\n",
    "\n",
    "* List of m Users and a list of n Items\n",
    "* Each user has a list of items with associated opinion\n",
    "    * Explicit preference - a rating score\n",
    "    * And/or Implicit preference – purchased record or listened to track\n",
    "* Active user for whom the CF prediction task is performed\n",
    "* Metric for measuring similarity between users\n",
    "* Method for selecting a subset of neighbors\n",
    "* Method for predicting a rating/preference for items with unknown preference\n",
    "by the active user."
   ]
  },
  {
   "cell_type": "markdown",
   "metadata": {
    "slideshow": {
     "slide_type": "slide"
    }
   },
   "source": [
    "## Personalized vs Non-Personalized CF\n",
    "\n",
    "* CF recommendations are personalized: prediction based\n",
    "only on similar users\n",
    "* Non-personalized collaborative-based recommendation:\n",
    "average the recommendations of ALL the users\n",
    "* How would the two approaches compare?"
   ]
  },
  {
   "cell_type": "markdown",
   "metadata": {
    "slideshow": {
     "slide_type": "slide"
    }
   },
   "source": [
    "## Personalized vs. Not Personalized\n",
    "* Netflix Prize: it is very simple to produce “reasonable” recommendations and extremely difficult to improve them to become “great”\n",
    "* But there is a huge difference in business value between reasonable and great\n",
    "\n",
    "<div style=\"text-align: center; margin-top: 20px;\">\n",
    "    <img src=\"img/popcf.jpg\" style=\"width:1000px; height: auto; display: block; margin: 10px auto;\"/>\n",
    "    <br/>\n",
    "</div>"
   ]
  },
  {
   "cell_type": "markdown",
   "metadata": {
    "slideshow": {
     "slide_type": "slide"
    }
   },
   "source": [
    "# User-based Collaborative Filtering"
   ]
  },
  {
   "cell_type": "markdown",
   "metadata": {
    "slideshow": {
     "slide_type": "slide"
    }
   },
   "source": [
    "# UB Collaborative Filtering\n",
    "\n",
    "The basic steps:\n",
    "\n",
    "1. **Identify set of ratings/preferences for the <span style=\"color:red\">target/active user</span>**\n",
    "\n",
    "2. **Identify set of users most similar to the target/active user according to a similarity function (<span style=\"color:red\">neighborhood formation</span>)**\n",
    "\n",
    "3. **Identify the products these similar users liked**\n",
    "\n",
    "4. **<span style=\"color:red\">Generate a prediction</span> - rating that would be given by the target user to the product - for each one of these products**\n",
    "\n",
    "5. **Based on this predicted rating, recommend a set of top N products**\n"
   ]
  },
  {
   "cell_type": "markdown",
   "metadata": {
    "slideshow": {
     "slide_type": "slide"
    }
   },
   "source": [
    "# UB Collaborative Filtering\n",
    "\n",
    "\n",
    "* A collection of users $u_i$, $i = 1, \\ldots, n$ and a collection of products $p_j$, $j = 1, \\ldots, m$.\n",
    "* An $n \\times m$ matrix of ratings $v_{ij}$, with $v_{ij} = ?$ if user $i$ did not rate product $j$.\n",
    "* Prediction for user $i$ and product $j$ is computed as:\n",
    "\n",
    "$ v_{ij}^* = K \\sum_{v_{kj} \\neq ?} u_{jk} v_{kj} $\n",
    "$\\quad$ or $\\quad$ \n",
    "$ v_{ij}^* = v_i + K \\sum_{v_{kj} \\neq ?} u_{jk} (v_{kj} - v_k) $\n",
    "\n",
    "* Similarity can be computed by Pearson correlation, cosine similarity…\n",
    "\n",
    "$ u_{ik} = \\frac{\\sum_j (v_{ij} - v_i)(v_{kj} - v_k)}{\\sqrt{\\sum_j (v_{ij} - v_i)^2 \\sum_j (v_{kj} - v_k)^2}} $\n",
    "$\\quad$ or $\\quad$ \n",
    "$ \\cos(u_i, u_j) = \\frac{\\sum_{k=1}^m v_{ik} v_{jk}}{\\sqrt{\\sum_{k=1}^m v_{ik}^2 \\sum_{k=1}^m v_{jk}^2}} $\n",
    "\n"
   ]
  },
  {
   "cell_type": "markdown",
   "metadata": {
    "slideshow": {
     "slide_type": "slide"
    }
   },
   "source": [
    "## Simple Example of User-Based Collaborative Filtering\n",
    "\n",
    "### Scenario\n",
    "Imagine a small movie recommendation system with the following setup:\n",
    "\n",
    "- **Users**: Alice, Bob, and Carol\n",
    "- **Movies**: \"Matrix,\" \"Inception,\" \"Titanic,\" \"Avatar\"\n",
    "- **Ratings**: Each user has rated some of these movies.\n",
    "\n",
    "### Step 1: Rating Matrix\n",
    "Let's start with the following rating matrix:\n",
    "\n",
    "|         | Matrix | Inception | Titanic | Avatar |\n",
    "|---------|--------|-----------|---------|--------|\n",
    "| **Alice** |   5    |     4     |    ?    |   3    |\n",
    "| **Bob**   |   4    |     ?     |    3    |   5    |\n",
    "| **Carol** |   ?    |     5     |    4    |   4    |\n",
    "\n",
    "*Note*: \"?\" denotes that the user hasn't rated that movie.\n",
    "\n",
    "### Step 2: Compute User Similarities\n",
    "\n",
    "We will compute the similarity between Alice and the other users (Bob and Carol) using **Pearson Correlation**.\n",
    "\n",
    "#### Pearson Correlation Formula\n",
    "The Pearson Correlation between two users $u$ and $v$ is defined as:\n",
    "\n",
    "$$\n",
    "\\text{Sim}(u, v) = \\frac{\\sum_{i \\in I_{uv}} (r_{u,i} - \\bar{r}_u)(r_{v,i} - \\bar{r}_v)}{\\sqrt{\\sum_{i \\in I_{uv}} (r_{u,i} - \\bar{r}_u)^2} \\cdot \\sqrt{\\sum_{i \\in I_{uv}} (r_{v,i} - \\bar{r}_v)^2}}\n",
    "$$\n",
    "\n",
    "Where:\n",
    "- $I_{uv}$ is the set of items rated by both users $u$ and $v$.\n",
    "- $r_{u,i}$ is the rating given by user $u$ to item $i$.\n",
    "- $\\bar{r}_u$ is the average rating of user $u$.\n",
    "\n",
    "#### Similarity Calculations\n",
    "\n",
    "1. **Alice and Bob**:\n",
    "   - **Common movies**: Matrix, Avatar\n",
    "   - **Alice’s ratings**: Matrix (5), Avatar (3)\n",
    "   - **Bob’s ratings**: Matrix (4), Avatar (5)\n",
    "   - **Alice's average rating**: $\\bar{r}_{\\text{Alice}} = \\frac{5 + 4 + 3}{3} = 4$\n",
    "   - **Bob's average rating**: $\\bar{r}_{\\text{Bob}} = \\frac{4 + 3 + 5}{3} = 4$\n",
    "   - **Adjusted ratings**:\n",
    "     - Alice: Matrix (5 - 4 = 1), Avatar (3 - 4 = -1)\n",
    "     - Bob: Matrix (4 - 4 = 0), Avatar (5 - 4 = 1)\n",
    "   - **Similarity**:\n",
    "   $$\n",
    "   \\text{Sim}(\\text{Alice}, \\text{Bob}) = \\frac{(1 \\times 0) + (-1 \\times 1)}{\\sqrt{1^2 + (-1)^2} \\cdot \\sqrt{0^2 + 1^2}} = -0.71\n",
    "   $$\n",
    "\n",
    "2. **Alice and Carol**:\n",
    "   - **Common movies**: Inception, Avatar\n",
    "   - **Alice’s ratings**: Inception (4), Avatar (3)\n",
    "   - **Carol’s ratings**: Inception (5), Avatar (4)\n",
    "   - **Carol's average rating**: $\\bar{r}_{\\text{Carol}} = \\frac{5 + 4 + 4}{3} = 4.33$\n",
    "   - **Adjusted ratings**:\n",
    "     - Alice: Inception (4 - 4 = 0), Avatar (3 - 4 = -1)\n",
    "     - Carol: Inception (5 - 4.33 \\approx 0.67), Avatar (4 - 4.33 \\approx -0.33)\n",
    "   - **Similarity**:\n",
    "   $$\n",
    "   \\text{Sim}(\\text{Alice}, \\text{Carol}) = \\frac{(0 \\times 0.67) + (-1 \\times -0.33)}{\\sqrt{0^2 + (-1)^2} \\cdot \\sqrt{0.67^2 + (-0.33)^2}} \\approx 0.23\n",
    "   $$\n",
    "\n",
    "### Step 3: Predict Rating\n",
    "Now, let's predict Alice’s rating for \"Titanic\" based on the ratings provided by Bob and Carol.\n",
    "\n",
    "**Alice's Predicted Rating for Titanic**:\n",
    "\n",
    "$$\n",
    "\\text{Predicted Rating for Titanic} = \\bar{r}_{\\text{Alice}} + \\frac{\\text{Sim}(\\text{Alice}, \\text{Bob}) \\times (3 - 4) + \\text{Sim}(\\text{Alice}, \\text{Carol}) \\times (4 - 4.33)}{|\\text{Sim}(\\text{Alice}, \\text{Bob})| + |\\text{Sim}(\\text{Alice}, \\text{Carol})|}\n",
    "$$\n",
    "\n",
    "$$\n",
    "= 4 + \\frac{-0.71 \\times -1 + 0.23 \\times -0.33}{|-0.71| + |0.23|} \\approx 4.42\n",
    "$$\n",
    "\n",
    "### Summary\n",
    "In this example, **User-Based Collaborative Filtering** predicts how Alice might rate \"Titanic\" by looking at how similar her tastes are to those of other users (Bob and Carol). It then combines their ratings for \"Titanic,\" weighted by their similarity to Alice, to predict her rating. This approach leverages the idea that users with similar preferences are likely to agree on future ratings.\n"
   ]
  },
  {
   "cell_type": "markdown",
   "metadata": {
    "slideshow": {
     "slide_type": "slide"
    }
   },
   "source": [
    "# Item-based Collaborative Filtering"
   ]
  },
  {
   "cell_type": "markdown",
   "metadata": {
    "slideshow": {
     "slide_type": "slide"
    }
   },
   "source": [
    "# Item-based Collaborative Filtering\n",
    "* Look into the items the target user has rated\n",
    "* Compute how similar they are to the target item\n",
    "    * Similarity only using past ratings from other users!\n",
    "* Select k most similar items.\n",
    "* Compute Prediction by taking weighted average on the\n",
    "target user’s ratings on the most similar items.\n"
   ]
  },
  {
   "cell_type": "markdown",
   "metadata": {
    "slideshow": {
     "slide_type": "slide"
    }
   },
   "source": [
    "# Item Similarity Computation\n",
    "\n",
    "- Similarity: find users who have rated items and apply a similarity function to their ratings.\n",
    "\n",
    "- **Cosine-based Similarity** (difference in rating scale between users is not taken into account):\n",
    "\n",
    "$ S(i,j) = \\cos(\\bar{i}, \\bar{j}) = \\frac{\\bar{i} \\cdot \\bar{j}}{\\|\\bar{i}\\|_2 * \\|\\bar{j}\\|_2} $\n",
    "\n",
    "- **Adjusted Cosine Similarity** (takes care of difference in rating scale):\n",
    "\n",
    "$ S(i,j) = \\frac{\\sum_{u \\in U} (R_{u,i} - \\bar{R_u})(R_{u,j} - \\bar{R_u})}{\\sqrt{\\sum_{u \\in U} (R_{u,i} - \\bar{R_u})^2 \\sum_{u \\in U} (R_{u,j} - \\bar{R_u})^2}} $\n"
   ]
  },
  {
   "cell_type": "markdown",
   "metadata": {},
   "source": [
    "## Simple Example of Item-Based Collaborative Filtering\n",
    "\n",
    "### Scenario\n",
    "Imagine a small movie recommendation system with the following setup:\n",
    "\n",
    "- **Users**: Alice, Bob, and Carol\n",
    "- **Movies**: \"Matrix,\" \"Inception,\" \"Titanic,\" \"Avatar\"\n",
    "- **Ratings**: Each user has rated some of these movies.\n",
    "\n",
    "### Step 1: Rating Matrix\n",
    "Let's start with the following rating matrix:\n",
    "\n",
    "|         | Matrix | Inception | Titanic | Avatar |\n",
    "|---------|--------|-----------|---------|--------|\n",
    "| **Alice** |   5    |     4     |    ?    |   3    |\n",
    "| **Bob**   |   4    |     ?     |    3    |   5    |\n",
    "| **Carol** |   ?    |     5     |    4    |   4    |\n",
    "\n",
    "*Note*: \"?\" denotes that the user hasn't rated that movie.\n",
    "\n",
    "### Step 2: Compute Item Similarities\n",
    "Using **Adjusted Cosine Similarity**, we'll compute how similar \"Titanic\" is to the other movies based on the ratings provided by Alice, Bob, and Carol.\n",
    "\n",
    "#### Similarity Calculations\n",
    "\n",
    "- **Titanic and Matrix**:\n",
    "  - **Common users**: Bob\n",
    "  - **Bob’s ratings**: Matrix (4), Titanic (3)\n",
    "  - Since only Bob has rated both, the similarity score is based on just his ratings.\n",
    "\n",
    "- **Titanic and Inception**:\n",
    "  - **Common users**: Carol\n",
    "  - **Carol’s ratings**: Inception (5), Titanic (4)\n",
    "  - Similarity score is based on Carol’s ratings.\n",
    "\n",
    "- **Titanic and Avatar**:\n",
    "  - **Common users**: Bob, Carol\n",
    "  - **Bob’s ratings**: Titanic (3), Avatar (5)\n",
    "  - **Carol’s ratings**: Titanic (4), Avatar (4)\n",
    "  - The similarity score is calculated considering both Bob’s and Carol’s ratings.\n",
    "\n",
    "Assuming the calculated similarities (normalized and adjusted for user biases) are as follows:\n",
    "\n",
    "- $Sim(\\text{Titanic}, \\text{Matrix}) = 0.7$\n",
    "- $Sim(\\text{Titanic}, \\text{Inception}) = 0.9$\n",
    "- $Sim(\\text{Titanic}, \\text{Avatar}) = 0.8$\n",
    "\n",
    "### Step 3: Predict Rating\n",
    "Now, let's predict Alice’s rating for \"Titanic\" based on the movies she has rated:\n",
    "\n",
    "**Alice's Rating for Titanic**:\n",
    "\n",
    "$\n",
    "\\text{Predicted Rating for Titanic} = \\frac{0.7 \\times 5 + 0.9 \\times 4 + 0.8 \\times 3}{0.7 + 0.9 + 0.8} = \\frac{3.5 + 3.6 + 2.4}{2.4} \\approx 4.25\n",
    "$\n"
   ]
  },
  {
   "cell_type": "markdown",
   "metadata": {
    "slideshow": {
     "slide_type": "slide"
    }
   },
   "source": [
    "# Memory based CF: Pros/Cons\n",
    "\n",
    "- Requires **_minimal knowledge_** engineering efforts\n",
    "- Users and products are symbols without any internal structure or characteristics\n",
    "- Produces good-enough results in most cases\n",
    "\n",
    "**Challenges:**\n",
    "\n",
    "- **_Sparsity_** – evaluation of large itemsets where user/item interactions are under 1%.\n",
    "- **_Scalability_** - Nearest neighbor requires computation that grows with both the number of users and the number of items.\n"
   ]
  },
  {
   "cell_type": "markdown",
   "metadata": {
    "slideshow": {
     "slide_type": "slide"
    }
   },
   "source": [
    "# The Sparsity Problem\n",
    "\n",
    "- Typically: large product sets, user ratings for a small percentage of them (e.g., Amazon: millions of books and a user may have bought hundreds of books)\n",
    "  \n",
    "- If you represent the Netflix Prize rating data in a User/Movie matrix, you get…\n",
    "  - 500,000 x 17,000 = 8.5 B positions\n",
    "  - Out of which only 100M are non-zero\n",
    "  \n",
    "- Number of users was ~ 0.1 x size of the catalog\n",
    "\n",
    "<div style=\"text-align: center; margin-top: 20px;\">\n",
    "    <img src=\"img/sparse.jpg\" style=\"width: 400px; height: auto; display: block; margin: 10px auto;\"/>\n",
    "</div>\n"
   ]
  },
  {
   "cell_type": "markdown",
   "metadata": {
    "slideshow": {
     "slide_type": "slide"
    }
   },
   "source": [
    "# Model Based CF Algorithms\n",
    "\n",
    "- **Memory based**\n",
    "  - Use the entire user-item database to generate a prediction.\n",
    "  - Usage of statistical techniques to find the neighbors – e.g. nearest-neighbor.\n",
    "\n",
    "- **Model-based**\n",
    "  - First develop a model\n",
    "  - Type of model:\n",
    "    - Probabilistic (e.g., Bayesian Network)\n",
    "    - Clustering\n",
    "    - Rule-based approaches (e.g., Association Rules)\n",
    "    - Classification\n",
    "    - Regression\n",
    "    - LDA\n",
    "    - <span style=\"color:red\">Matrix Factorization (e.g., SVD)</span>\n"
   ]
  },
  {
   "cell_type": "markdown",
   "metadata": {
    "slideshow": {
     "slide_type": "slide"
    }
   },
   "source": [
    "# Clustering"
   ]
  },
  {
   "cell_type": "markdown",
   "metadata": {
    "slideshow": {
     "slide_type": "slide"
    }
   },
   "source": [
    "## Cluster\n",
    "* Goal: cluster users and compute per-cluster “typical”\n",
    "preferences\n",
    "* Users receive recommendations computed at the\n",
    "cluster level"
   ]
  },
  {
   "cell_type": "markdown",
   "metadata": {
    "slideshow": {
     "slide_type": "slide"
    }
   },
   "source": [
    "# Locality-sensitive Hashing (LSH)\n",
    "\n",
    "- Method for grouping similar items in highly dimensional spaces\n",
    "\n",
    "- Find a hashing function s.t. similar items are grouped in the same buckets\n",
    "\n",
    "- Main application is Nearest-neighbors\n",
    "  - Hashing function is found iteratively by concatenating random hashing functions\n",
    "  - Addresses one of NN main concerns: performance\n"
   ]
  },
  {
   "cell_type": "markdown",
   "metadata": {
    "slideshow": {
     "slide_type": "slide"
    }
   },
   "source": [
    "# Other “interesting” clustering techniques\n",
    "\n",
    "- k-means and all its variations\n",
    "- Affinity Propagation\n",
    "- Spectral Clustering\n",
    "- Non-parametric Bayesian Clustering (e.g. HDPs)\n",
    "\n",
    "<!-- k-means and its variations:\n",
    "\n",
    "A widely used algorithm that partitions data into k clusters by minimizing within-cluster variance. Variations include k-medoids, which uses medoids instead of centroids, and spherical k-means, suitable for text data.\n",
    "Affinity Propagation:\n",
    "\n",
    "An algorithm that identifies exemplars among data points and forms clusters based on these exemplars, without needing to specify the number of clusters in advance.\n",
    "Spectral Clustering:\n",
    "\n",
    "A technique that uses the eigenvalues of a similarity matrix to reduce dimensionality before applying clustering, often producing better results on complex datasets.\n",
    "Non-parametric Bayesian Clustering (e.g., HDPs):\n",
    "\n",
    "Hierarchical Dirichlet Processes (HDPs) allow for an unknown number of clusters by using a non-parametric Bayesian approach, making them flexible for varying data sizes and structures -->"
   ]
  },
  {
   "cell_type": "markdown",
   "metadata": {
    "slideshow": {
     "slide_type": "slide"
    }
   },
   "source": [
    "# Association rules\n",
    "\n",
    "- Past purchases are interpreted as transactions of “associated” items\n",
    "- If a visitor has some interest in Book 5, she will be recommended to buy Book 3 as well\n",
    "- Recommendations are constrained to some minimum levels of confidence\n",
    "- Fast to implement and execute (e.g., A Priori algorithm)\n",
    "\n",
    "<div style=\"text-align: center; margin-top: 20px;\">\n",
    "    <img src=\"img/alsobougth.jpg\" style=\"width: 700px; height: auto; display: block; margin: 10px auto;\"/>\n",
    "</div>"
   ]
  },
  {
   "cell_type": "markdown",
   "metadata": {
    "slideshow": {
     "slide_type": "slide"
    }
   },
   "source": [
    "<!-- <left><img width=25% src=\"img/gw_monogram_2c.png\"></left>-->\n",
    "<center><img src=\"img/classifier.jpg\" style=\"width:30%; height:auto;\"/></center>\n",
    "\n",
    "\n",
    "# Classifiers\n",
    "\n",
    "* Classifiers are general computational models trained using\n",
    "positive and negative examples\n",
    "* They may take in inputs:\n",
    "    * Vector of item features (action / adventure, Bruce Willis)\n",
    "    * Preferences of customers (like action / adventure)\n",
    "    * Relations among item\n",
    "* E.g. Logistic Regression, Bayesian Networks, Support Vector Machines, Decision Trees, etc..."
   ]
  },
  {
   "cell_type": "markdown",
   "metadata": {
    "slideshow": {
     "slide_type": "slide"
    }
   },
   "source": [
    "# Classifiers\n",
    "* Classifiers can be used in CF and CB Recommenders\n",
    "    * Pros:\n",
    "        * Versatile\n",
    "        * Can be combined with other methods to improve accuracy of recommendations\n",
    "    * Cons:\n",
    "        * Need a relevant training set\n",
    "        * May overfit (Regularization)\n",
    "    * E.g. Logistic Regression, Bayesian Networks, Support Vector Machines, Decision Trees, etc..."
   ]
  },
  {
   "cell_type": "markdown",
   "metadata": {
    "slideshow": {
     "slide_type": "slide"
    }
   },
   "source": [
    "# Matrix Factorization"
   ]
  },
  {
   "cell_type": "markdown",
   "metadata": {
    "slideshow": {
     "slide_type": "slide"
    }
   },
   "source": [
    "# Matrix Factorization\n",
    "\n",
    "- *Since the Netflix Prize, MF has been the preferred approach to model-based collaborative filtering (and recommendation as a whole).*\n",
    "  \n",
    "- *Only recently (and arguably) challenged by Deep Learning*\n",
    "\n",
    "- *We already talked about SVD, a form of Matrix Factorization in the context of the Netflix Prize*\n",
    "\n",
    "- *SVD was designed at that time to operate on discrete numerical ratings, but has been extended very effectively since to other cases*\n"
   ]
  },
  {
   "cell_type": "markdown",
   "metadata": {
    "slideshow": {
     "slide_type": "slide"
    }
   },
   "source": [
    "# Matrix Factorization\n",
    "\n",
    "- **MF can be interpreted as**\n",
    "  - Unsupervised:\n",
    "    - Dimensionality Reduction similar to Principal Component Analysis (PCA)\n",
    "    - Clustering (e.g. NMF)\n",
    "  - Supervised:\n",
    "    - Labeled targets ~ regression\n",
    "\n",
    "- **Very useful variations of MF**\n",
    "  - Bayesian Personalized Ranking (BPR), Alternating Least Squares (ALS), Extension of Singular Value Decomposition (SVD++)\n",
    "  - Tensor Factorization, Factorization Machines\n",
    "  <center><img src=\"img/mfform.jpg\" style=\"width:50%; height:auto;\"/></center>\n",
    "\n"
   ]
  },
  {
   "cell_type": "markdown",
   "metadata": {
    "slideshow": {
     "slide_type": "slide"
    }
   },
   "source": [
    "# Alternating Least Squares\n",
    "* ALS is an optimized version of matrix\n",
    "factorization that uses conjugate\n",
    "gradient descent to solve for implicit\n",
    "datasets where there is a more dense\n",
    "matrix\n",
    "* It is considered the SOTA matrix\n",
    "factorization approach\n",
    "<center><img src=\"img/ALS1.jpg\" style=\"width:40%; height:auto;\"/></center>\n",
    "<br>\n",
    "<center><img src=\"img/ALS2.jpg\" style=\"width:40%; height:auto;\"/></center>\n",
    "\n"
   ]
  },
  {
   "cell_type": "markdown",
   "metadata": {
    "slideshow": {
     "slide_type": "slide"
    }
   },
   "source": [
    "# Python implicit \n",
    "Simple yet efficient python library that implements collaborative filtering approaches for implicit datasets\n",
    "* Item-based nearest neighbor models\n",
    "* ALS\n",
    "* BPR (Bayesian personalized Ranking)\n",
    "\n",
    "<center><img src=\"img/implicit.jpg\" style=\"width:30%; height:auto;\"/></center>\n",
    "If you're interested in implementing these techniques, you can explore the <a href=\"https://github.com/benfred/implicit\">Implicit library on GitHub</a>\n"
   ]
  },
  {
   "cell_type": "markdown",
   "metadata": {
    "slideshow": {
     "slide_type": "slide"
    }
   },
   "source": [
    "# Limitations of Collaborative Filtering\n"
   ]
  },
  {
   "cell_type": "markdown",
   "metadata": {
    "slideshow": {
     "slide_type": "slide"
    }
   },
   "source": [
    "# Limitations of Collaborative Filtering\n",
    "* Cold Start: There needs to be enough other users already in the system to find a match. New items need to get enough ratings.\n",
    "* Popularity Bias: Hard to recommend items to someone with unique tastes.\n",
    "* Tends to recommend popular items (items from the tail do not get so much data)\n"
   ]
  },
  {
   "cell_type": "markdown",
   "metadata": {
    "slideshow": {
     "slide_type": "slide"
    }
   },
   "source": [
    "# 3.2. Content-based Recommendation"
   ]
  },
  {
   "cell_type": "markdown",
   "metadata": {
    "slideshow": {
     "slide_type": "slide"
    }
   },
   "source": [
    "# Content-Based Recommendation\n",
    "* Recommendations based on content of items rather than on other users’ opinions/interactions\n",
    "* Goal: recommend items similar to those the user liked\n",
    "* Common for recommending text-based products (web pages, usenet news messages, )\n",
    "* Items to recommend are “described” by their associated features (e.g. keywords)\n",
    "* User Model structured in a “similar” way as the content: features/keywords more likely to occur in the preferred documents (lazy approach)\n",
    "* The user model can be a classifier based on whatever technique (Neural Networks...)\n",
    "\n"
   ]
  },
  {
   "cell_type": "markdown",
   "metadata": {
    "slideshow": {
     "slide_type": "slide"
    }
   },
   "source": [
    "# Pros/cons of CB Approach\n",
    "* Pros\n",
    "    * No need for data on other users: No cold-start or sparsity\n",
    "    * Able to recommend to users with unique tastes.\n",
    "    * Able to recommend new and unpopular items\n",
    "    * Can provide explanations by listing content-features\n",
    "* Cons\n",
    "    * Requires content that can be encoded as meaningful features (difficult in some domains/catalogs)\n",
    "    * Users represented as learnable function of content features.\n",
    "    * Difficult to implement exploration\n",
    "    * Easy to overfit (e.g. for a user with few data points)\n"
   ]
  },
  {
   "cell_type": "markdown",
   "metadata": {
    "slideshow": {
     "slide_type": "slide"
    }
   },
   "source": [
    "# A word of caution\n",
    "<center><img src=\"img/woc.jpg\" style=\"width:60%; height:auto;\"/></center>\n",
    "\n",
    "https://sci-hub.se/10.1145/1639714.1639731"
   ]
  },
  {
   "cell_type": "markdown",
   "metadata": {
    "slideshow": {
     "slide_type": "slide"
    }
   },
   "source": [
    "# Deep Learning and CB Recommendations \n",
    "* Machine learning analysis of “content” has been revolutionized by Deep Learning\n",
    "    * Many approaches to understanding images, text, or other kinds of content through Deep Learning\n",
    "    * Among them, embeddings are a great way to represent content (and users)\n",
    "* We will continue talking about Deep Learning solutions in Sessions 2 and beyond\n",
    "<center><img src=\"img/deepcf.jpg\" style=\"width:70%; height:auto;\"/></center>\n",
    "\n"
   ]
  },
  {
   "cell_type": "markdown",
   "metadata": {
    "slideshow": {
     "slide_type": "slide"
    }
   },
   "source": [
    "# Part 4. Hybrid recommendations\n",
    "<center><img src=\"img/hybrid.webp\" style=\"width:30%; height:auto;\"/></center>\n",
    "\n",
    "\n"
   ]
  },
  {
   "cell_type": "markdown",
   "metadata": {
    "slideshow": {
     "slide_type": "slide"
    }
   },
   "source": [
    "# Comparison of methods (FAB system)\n",
    "\n",
    "* Content–based recommendation with Bayesian classifier\n",
    "* Basic collaborative filtering using Pearson correlation\n",
    "* Collaboration via content uses the content-based user profiles\n",
    "<center><img src=\"img/FAB.jpg\" style=\"width:40%; height:auto;\"/></center>\n",
    "* Averaged on 44 users\n",
    "* Precision computed in top 3 recommendations"
   ]
  },
  {
   "cell_type": "markdown",
   "metadata": {
    "slideshow": {
     "slide_type": "slide"
    }
   },
   "source": [
    "# Hybridization Methods for Recommender Systems\n",
    "\n",
    "| **Hybridization Method**  | **Description** |\n",
    "|---------------------------|--------------------------------------------------------------------------------------------------------------------------------------------------------------------------------|\n",
    "| **Weighted**              | Outputs from several techniques (in the form of scores or votes) are combined with different degrees of importance to offer final recommendations.                               |\n",
    "| **Switching**             | Depending on the situation, the system changes from one technique to another.                                                                                                   |\n",
    "| **Mixed**                 | Recommendations from several techniques are presented at the same time.                                                                                                        |\n",
    "| **Feature combination**   | Features from different recommendation sources are combined as input to a single technique.                                                                                    |\n",
    "| **Cascade**               | The output from one technique is used as input to another that refines the result.                                                                                              |\n",
    "| **Feature augmentation**  | The output from one technique is used as input features to another.                                                                                                            |\n",
    "| **Meta-level**            | The model learned by one recommender is used as input to another.                                                                                                              |\n"
   ]
  },
  {
   "cell_type": "markdown",
   "metadata": {
    "slideshow": {
     "slide_type": "slide"
    }
   },
   "source": [
    "# Everything is an ensemble\n",
    "\n",
    "- **Netflix Prize was won by an ensemble**\n",
    "  - Initially, Bellkor was using GDBTs\n",
    "  - BigChaos introduced ANN-based ensemble\n",
    "\n",
    "- **Most practical applications of ML run an ensemble**\n",
    "  - Why wouldn’t you?\n",
    "  - At least as good as the best of your methods\n",
    "  - Can combine different approaches (e.g., CF and content-based)\n",
    "  - Can use different models at the ensemble layer: LR, GDBTs, RFs, ANNs...\n",
    "\n",
    "<center><img src=\"img/ens1.jpg\" style=\"width:30%; height:auto;\"/></center>\n",
    "<center><img src=\"img/ens2.jpg\" style=\"width:30%; height:auto;\"/></center>\n"
   ]
  },
  {
   "cell_type": "markdown",
   "metadata": {
    "slideshow": {
     "slide_type": "slide"
    }
   },
   "source": [
    "# Ensembles & Feature Engineering\n",
    "<center><img src=\"img/dwide.jpg\" style=\"width:90%; height:auto;\"/></center>\n"
   ]
  },
  {
   "cell_type": "markdown",
   "metadata": {
    "slideshow": {
     "slide_type": "slide"
    }
   },
   "source": [
    "# 5. A Recsys Architecture Blueprint"
   ]
  },
  {
   "cell_type": "markdown",
   "metadata": {
    "slideshow": {
     "slide_type": "slide"
    }
   },
   "source": [
    "# A Recsys Architecture Blueprint\n",
    "<center><img src=\"img/recsys1.jpg\" style=\"width:50%; height:auto;\"/></center>"
   ]
  },
  {
   "cell_type": "markdown",
   "metadata": {
    "slideshow": {
     "slide_type": "slide"
    }
   },
   "source": [
    "# A Recsys Other Blueprint\n",
    "<center><img src=\"img/recsys21.jpg\" style=\"width:50%; height:auto;\"/></center>\n",
    "<center><img src=\"img/recsys22.jpg\" style=\"width:70%; height:auto;\"/></center>\n",
    "https://fennel.ai/blog/real-world-recommendation-system/\n"
   ]
  },
  {
   "cell_type": "markdown",
   "metadata": {
    "slideshow": {
     "slide_type": "slide"
    }
   },
   "source": [
    "# Other Blueprint\n",
    "\n",
    "<center><img src=\"img/recsys4.jpg\" style=\"width:80%; height:auto;\"/></center>\n",
    "Nvidia’s 4 stages\n",
    "https://medium.com/nvidia-merlin/recommender-systems-not-just-recommender-models-485c161c755e"
   ]
  },
  {
   "cell_type": "markdown",
   "metadata": {
    "slideshow": {
     "slide_type": "slide"
    }
   },
   "source": [
    "# A Recsys Other Blueprint\n",
    "<center><img src=\"img/recsys31.jpg\" style=\"width:50%; height:auto;\"/></center>\n",
    "https://eugeneyan.com/writing/system-design-for-discovery/\n"
   ]
  },
  {
   "cell_type": "markdown",
   "metadata": {
    "slideshow": {
     "slide_type": "slide"
    }
   },
   "source": [
    "# A Recsys Other Blueprint\n",
    "<center><img src=\"img/Netflixbp.jpg\" style=\"width:50%; height:auto;\"/></center>\n",
    "https://netflixtechblog.com/system-architectures-for-personalization-and-recommendation-e081aa94b5d8\n",
    "    "
   ]
  },
  {
   "cell_type": "markdown",
   "metadata": {
    "slideshow": {
     "slide_type": "slide"
    }
   },
   "source": [
    "# What are your takeaways from this session?\n",
    "\n",
    "- **There’s much more than ML to a recommender system**\n",
    "  - Aspects such as the UX, Serendipity, Diversity, Explanations, scalability, and other system concerns might matter just as much or more\n",
    "\n",
    "- **A good initial recommendation baseline for any system is simply recommending “most popular”**\n",
    "\n",
    "- **There are two main approaches to recommendations: collaborative filtering (CF) and content-based (CB)**\n",
    "  - **In CF we only use information about past user behavior to form our predictions**\n",
    "    - We can use past user actions to find similar users or items (memory-based) or train an ML model\n",
    "    - While there are many ML approaches to CF, Matrix Factorization is usually the preferred technique\n",
    "    - CF is considered the best approach to recommendations in isolation\n",
    "    - CF is agnostic to content and domain, and it is easy to implement out of the box. However, it suffers from popularity bias and cold start problems (i.e., cannot recommend content that has no/few interactions)\n",
    "  \n",
    "  - **In CB we only use information about the content itself to infer recommendations**\n",
    "    - Information from the content can be manually extracted (e.g., tags) or automatically extracting features (e.g., embeddings or automatic tagging)\n",
    "    - CB recommendations work well for new content or content in the long tail, but it is hard to inject exploration since we always recommend “similar” items.\n",
    "    \n"
   ]
  },
  {
   "cell_type": "markdown",
   "metadata": {
    "slideshow": {
     "slide_type": "slide"
    }
   },
   "source": [
    "# What are your takeaways from this session?\n",
    "\n",
    "- **Different approaches to recommendations can be combined through hybridization, particularly through an ensemble**\n",
    "  - An ensemble can turn any model into the feature of a more general model\n",
    "\n",
    "- **From an architectural perspective, a recsys is composed of:**\n",
    "  - **Modeling**\n",
    "    - Sampling, feature extraction, model training, model testing, parameter tuning, model deployment\n",
    "  - **Inference/presentation**\n",
    "    - Candidate generation, feature extraction, scoring, post-processing, ranking/rendering, logging\n",
    "  - **All these processes can be done offline, nearline, or online**\n",
    "    - The earlier in the funnel a process is, the more likely it will be done offline\n"
   ]
  },
  {
   "cell_type": "markdown",
   "metadata": {
    "slideshow": {
     "slide_type": "slide"
    }
   },
   "source": [
    "# \"Homework\"\n",
    "\n",
    "- **Given what you know at this point, how would you go about implementing your first recsys end to end?**\n",
    "  - You can think about a use case you know about, otherwise think about recommending daily news via email.\n"
   ]
  }
 ],
 "metadata": {
  "accelerator": "GPU",
  "celltoolbar": "Slideshow",
  "colab": {
   "collapsed_sections": [],
   "name": "neural-ode.ipynb",
   "provenance": []
  },
  "kernelspec": {
   "display_name": "Python 3 (ipykernel)",
   "language": "python",
   "name": "python3"
  },
  "language_info": {
   "codemirror_mode": {
    "name": "ipython",
    "version": 3
   },
   "file_extension": ".py",
   "mimetype": "text/x-python",
   "name": "python",
   "nbconvert_exporter": "python",
   "pygments_lexer": "ipython3",
   "version": "3.11.5"
  },
  "rise": {
   "controlsTutorial": false,
   "height": 900,
   "help": false,
   "margin": 0,
   "maxScale": 2,
   "minScale": 0.2,
   "progress": true,
   "scroll": true,
   "theme": "simple",
   "width": 1200
  }
 },
 "nbformat": 4,
 "nbformat_minor": 4
}
