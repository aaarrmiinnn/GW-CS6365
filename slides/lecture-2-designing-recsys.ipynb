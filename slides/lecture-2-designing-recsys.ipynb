{
 "cells": [
  {
   "cell_type": "markdown",
   "metadata": {
    "slideshow": {
     "slide_type": "slide"
    }
   },
   "source": [
    "<left><img width=25% src=\"img/gw_monogram_2c.png\"></left>\n",
    "\n",
    "# Lecture 2: Designing State of the Art Recommender Systems\n",
    "\n",
    "### CS4907/CS6365 Machine Learning\n",
    "\n",
    "__Sardar Hamidian__<br>The George Washington Universiry\n",
    "\n",
    "__Armin Mehrabian__<br>The George Washington Universiry"
   ]
  },
  {
   "cell_type": "markdown",
   "metadata": {
    "slideshow": {
     "slide_type": "slide"
    }
   },
   "source": [
    "# ToC\n",
    "\n",
    "1. <span style=\"color:lightgray; font-size: 0.9em;\">Session 1: Introduction to recommender systems: Basics and classic techniques</span>\n",
    "2. **Session 2: Beyond Rating Prediction**\n",
    "3. <span style=\"color:lightgray; font-size: 0.9em;\">Session 3: Other advanced approaches to recommending content</span>\n",
    "4. <span style=\"color:lightgray; font-size: 0.9em;\">Session 4: Recommender Systems in Industry I</span>\n",
    "5. <span style=\"color:lightgray; font-size: 0.9em;\">Session 5: Recommender Systems in Industry II</span>\n"
   ]
  },
  {
   "cell_type": "markdown",
   "metadata": {
    "slideshow": {
     "slide_type": "slide"
    }
   },
   "source": [
    "## Session 2: Beyond Rating Prediction\n",
    "\n",
    "1. Beyond Rating Prediction\n",
    "2. Ranking\n",
    "3. Other approaches\n",
    "   - a. Recommending Similars\n",
    "   - b. Social recommendations\n",
    "   - c. Explore/exploit\n",
    "   - d. Page Optimization\n",
    "   - e. Deep Learning\n",
    "4. Context-aware recommendations\n",
    "5. Hybrid recommendations\n",
    "6. Takeaways\n"
   ]
  },
  {
   "cell_type": "markdown",
   "metadata": {
    "slideshow": {
     "slide_type": "slide"
    }
   },
   "source": [
    "## 1.1 Select Objective and Metrics\n",
    "\n",
    "This is an essential first step.\n",
    "- Choose data and metrics that connect to your business goal.\n",
    "- Sample negatives smartly.\n",
    "- Select validation and test set carefully (e.g., avoid time traveling).\n",
    "- For metrics, prefer ranking or ranking-related metrics.\n",
    "- We will discuss this topic at length in future sessions."
   ]
  },
  {
   "cell_type": "markdown",
   "metadata": {
    "slideshow": {
     "slide_type": "slide"
    }
   },
   "source": [
    "# Training, testing, metrics - our use case\n",
    "\n",
    "- **In our example, and to simplify, we could choose:**\n",
    "  - **Training data:** add text, userID, click/no-click, position of ad in email\n",
    "  - **Metric:** NDCG or recall @3\n"
   ]
  },
  {
   "cell_type": "markdown",
   "metadata": {
    "slideshow": {
     "slide_type": "slide"
    }
   },
   "source": [
    "## 1.2 Start with (Implicit) Matrix Factorization\n"
   ]
  },
  {
   "cell_type": "markdown",
   "metadata": {
    "slideshow": {
     "slide_type": "slide"
    }
   },
   "source": [
    "- Experience suggests that the best single (simple) approach is implicit matrix factorization:\n",
    "   - **ALS:** Alternating Least Squares (Hu et al., 2008).\n",
    "   https://www.researchgate.net/publication/254464370_Alternating_least_squares_for_personalized_ranking\n",
    "   - **BPR:** Bayesian Personalized Ranking (Rendle et al., 2009).\n",
    "   https://arxiv.org/abs/1205.2618"
   ]
  },
  {
   "cell_type": "markdown",
   "metadata": {
    "slideshow": {
     "slide_type": "slide"
    }
   },
   "source": [
    "# Recommended Implementations\n",
    "\n",
    "- **Implicit**\n",
    "  - Efficient\n",
    "  - Python\n",
    "  - Well-maintained\n",
    "<center><img src=\"img/Implicit2.jpg\" style=\"width:50%; height:auto;\"/></center>\n",
    "https://github.com/benfred/implicit"
   ]
  },
  {
   "cell_type": "markdown",
   "metadata": {
    "slideshow": {
     "slide_type": "slide"
    }
   },
   "source": [
    "- **Quora’s QMF**\n",
    "  - Efficient compiled C++ code\n",
    "  - Supports many evaluation metrics\n",
    "<center><img src=\"img/Implicit3.jpg\" style=\"width:50%; height:auto;\"/></center>\n",
    "https://github.com/quora/qmf\n"
   ]
  },
  {
   "cell_type": "markdown",
   "metadata": {
    "slideshow": {
     "slide_type": "slide"
    }
   },
   "source": [
    "# Modeling in our example\n",
    "\n",
    "- **Question for the class:** Can we use basic CF in the case of daily news recommendation?\n"
   ]
  },
  {
   "cell_type": "markdown",
   "metadata": {
    "slideshow": {
     "slide_type": "slide"
    }
   },
   "source": [
    "# 1.3 Decide simple candidate selection strategy"
   ]
  },
  {
   "cell_type": "markdown",
   "metadata": {
    "slideshow": {
     "slide_type": "slide"
    }
   },
   "source": [
    "# Candidate selection and filtering\n",
    "Question for the class: how do you find your candidate news?"
   ]
  },
  {
   "cell_type": "markdown",
   "metadata": {
    "slideshow": {
     "slide_type": "slide"
    }
   },
   "source": [
    "# 1.4 A/B Test"
   ]
  },
  {
   "cell_type": "markdown",
   "metadata": {
    "slideshow": {
     "slide_type": "slide"
    }
   },
   "source": [
    "# AB Test\n",
    "\n",
    "- **So, you have your first implementation:**\n",
    "  - Have tuned hyperparameters to optimize offline metric\n",
    "  - How do you know this is working?\n",
    "\n",
    "- **Run AB Test!**\n",
    "  - Make sure offline metric (somewhat) correlates to online effect\n"
   ]
  },
  {
   "cell_type": "markdown",
   "metadata": {
    "slideshow": {
     "slide_type": "slide"
    }
   },
   "source": [
    "# 1.5 Retrain\n",
    "\n",
    "- **Retrain**\n",
    "  - Data changes over time\n",
    "  - Every recommendation that is shown and acted upon (or not) is new data\n",
    "  - You need to retrain models with new data (incrementally or not)"
   ]
  },
  {
   "cell_type": "markdown",
   "metadata": {
    "slideshow": {
     "slide_type": "slide"
    }
   },
   "source": [
    "# 1.6 Ensemble\n",
    "\n",
    "- **Ensemble**\n",
    "  - Now, it’s time to turn the model into a signal\n",
    "  - Brainstorm about some simple potential features that you could combine with implicit MF\n",
    "    - E.g., user tenure, average rating for the item, price of the item...\n",
    "  - Add to MF through an ensemble\n",
    "\n",
    "- **What model to use at the ensemble layer?**\n",
    "  - Always favor the most simple -> L2-regularized Logistic Regression\n",
    "  - Eventually introduce models that can benefit from non-linear effects and many features -> Gradient Boosted Decision Trees\n",
    "  - Explore Learning-to-rank models -> LambdaRank\n",
    "  - Deep learning"
   ]
  },
  {
   "cell_type": "markdown",
   "metadata": {
    "slideshow": {
     "slide_type": "slide"
    }
   },
   "source": [
    "# Ensemble in our example\n",
    "\n",
    "- **Question for the class:** Besides our basic text representation-based CF, what other features could we add?\n",
    "\n",
    "---"
   ]
  },
  {
   "cell_type": "markdown",
   "metadata": {
    "slideshow": {
     "slide_type": "slide"
    }
   },
   "source": [
    "# 1.7 Iterate, Feature Engineering\n",
    "\n",
    "- **Iterate**\n",
    "  - Experiment/add more features\n",
    "  - Experiment with more complex models\n",
    "  - Do both things in parallel\n",
    "  - Continue AB testing"
   ]
  },
  {
   "cell_type": "markdown",
   "metadata": {
    "slideshow": {
     "slide_type": "slide"
    }
   },
   "source": [
    "# Part 2. Beyond Rating Prediction\n",
    "<br>\n",
    "<center><img src=\"img/netflix21.jpg\" style=\"width:50%; height:auto;\"/></center>\n"
   ]
  },
  {
   "cell_type": "markdown",
   "metadata": {
    "slideshow": {
     "slide_type": "slide"
    }
   },
   "source": [
    "# Evolution of the Recommender Problem\n",
    "<center><img src=\"img/eval21.jpg\" style=\"width:80%; height:auto;\"/></center>\n"
   ]
  },
  {
   "cell_type": "markdown",
   "metadata": {
    "slideshow": {
     "slide_type": "slide"
    }
   },
   "source": [
    "# Ranking by ratings\n",
    "<br>\n",
    "<center><img src=\"img/eval23.jpg\" style=\"width:80%; height:auto;\"/></center>\n"
   ]
  },
  {
   "cell_type": "markdown",
   "metadata": {
    "slideshow": {
     "slide_type": "slide"
    }
   },
   "source": [
    "# RMSE\n",
    "<br>\n",
    "<center><img src=\"img/rmse.jpg\" style=\"width:40%; height:auto;\"/></center>\n"
   ]
  },
  {
   "cell_type": "markdown",
   "metadata": {
    "slideshow": {
     "slide_type": "slide"
    }
   },
   "source": [
    "# Part 3. Ranking\n",
    "* Most recommendations are presented in a sorted list\n",
    "* Recommendation can be understood as a ranking problem\n",
    "* Popularity is the obvious baseline\n",
    "* Ratings prediction is a clear secondary data input that allows for personalization\n",
    "* Many other features can be added"
   ]
  },
  {
   "cell_type": "markdown",
   "metadata": {
    "slideshow": {
     "slide_type": "slide"
    }
   },
   "source": [
    "# Example: Two features, linear model\n",
    "\n",
    "<center><img src=\"img/pred21.jpg\" style=\"width:80%; height:auto;\"/></center>\n"
   ]
  },
  {
   "cell_type": "markdown",
   "metadata": {
    "slideshow": {
     "slide_type": "slide"
    }
   },
   "source": [
    "# Example: Two features, linear model\n",
    "<center><img src=\"img/rankpop.jpg\" style=\"width:80%; height:auto;\"/></center>\n"
   ]
  },
  {
   "cell_type": "markdown",
   "metadata": {
    "slideshow": {
     "slide_type": "slide"
    }
   },
   "source": [
    "# Ranking - Quora Feed\n",
    "\n",
    "**Goal:** Present the most *interesting stories* for a user at a given time\n",
    "\n",
    "- **Interesting** = topical relevance + social relevance + timeliness\n",
    "- **Stories** = questions + answers\n",
    "\n",
    "**ML:** Personalized learning-to-rank approach\n",
    "\n",
    "**Relevance-ordered vs time-ordered** = big gains in engagement\n",
    "<center><img src=\"img/rqf1.jpg\" style=\"width:50%; height:auto;\"/></center>\n",
    "<center><img src=\"img/rqf2.jpg\" style=\"width:50%; height:auto;\"/></center>\n"
   ]
  },
  {
   "cell_type": "markdown",
   "metadata": {
    "slideshow": {
     "slide_type": "slide"
    }
   },
   "source": [
    "# Learning to rank\n",
    "\n",
    "- Machine learning problem: goal is to construct a ranking model from training data\n",
    "- Training data can be a partial order or binary judgments (relevant/not relevant)\n",
    "- Resulting order of the items typically induced from a numerical score\n",
    "- Learning to rank is a key element for personalization\n",
    "- You can treat the problem as a standard supervised classification problem\n",
    "\n",
    "**What is learning to rank?**\n",
    "https://opensourceconnections.com/blog/2017/02/24/what-is-learning-to-rank/"
   ]
  },
  {
   "cell_type": "markdown",
   "metadata": {
    "slideshow": {
     "slide_type": "slide"
    }
   },
   "source": [
    "\n",
    "# Learning to rank - Metrics\n",
    "\n",
    "- **Quality of ranking measured using metrics as:**\n",
    "  - Normalized Discounted Cumulative Gain\n",
    "  - Mean Reciprocal Rank (MRR)\n",
    "  - Fraction of Concordant Pairs (FCP)\n",
    "  - Others...\n",
    "- But, it is hard to optimize machine-learned models directly on these measures (e.g., non-differentiable)\n",
    "- Recent research on models that directly optimize ranking measures\n"
   ]
  },
  {
   "cell_type": "markdown",
   "metadata": {
    "slideshow": {
     "slide_type": "slide"
    }
   },
   "source": [
    "# Learning to rank - Approaches\n",
    "\n",
    "### 1. Pointwise\n",
    "  - Ranking function minimizes loss function defined on individual relevance judgment\n",
    "  - Ranking score based on regression or classification\n",
    "  - Ordinal regression, Logistic regression, SVM, GBDT, ...\n",
    "\n",
    "### 2. Pairwise\n",
    "  - Loss function is defined on pair-wise preferences\n",
    "  - Goal: minimize number of inversions in ranking\n",
    "  - Ranking problem is then transformed into the binary classification problem\n",
    "  - RankSVM, RankBoost, RankNet, FRank...\n",
    "  - BPR is a pairwise learning to rank approach that can be applied to different methods like kNN and MF\n",
    "\n",
    "**Learning to rank approaches:**  \n",
    "https://opensourceconnections.com/blog/2017/08/03/search-as-machine-learning-prob/\n"
   ]
  },
  {
   "cell_type": "markdown",
   "metadata": {
    "slideshow": {
     "slide_type": "slide"
    }
   },
   "source": [
    "\n",
    "### 3. Listwise\n",
    "\n",
    "  - **Indirect Loss Function**\n",
    "    - RankCosine: similarity between ranking list and ground truth as loss function\n",
    "    - ListNet: KL-divergence as loss function by defining a probability distribution\n",
    "    - Problem: optimization of listwise loss function may not optimize IR metrics\n",
    "  - **Directly optimizing IR metric** (difficult since they are not differentiable)\n",
    "    - Genetic Programming or Simulated Annealing\n",
    "    - LambdaMart weights pairwise errors in RankNet by IR metric\n",
    "    - Gradient descent on smoothed version of objective function (e.g., CLiMF or TFMAP)\n",
    "    - SVM-MAP relaxes MAP metric by adding to SVM constraints\n",
    "    - AdaRank uses boosting to optimize NDCG"
   ]
  },
  {
   "cell_type": "markdown",
   "metadata": {
    "slideshow": {
     "slide_type": "slide"
    }
   },
   "source": [
    "# Part 4. Other approaches"
   ]
  },
  {
   "cell_type": "markdown",
   "metadata": {
    "slideshow": {
     "slide_type": "slide"
    }
   },
   "source": [
    "# 4.1 Similarity"
   ]
  },
  {
   "cell_type": "markdown",
   "metadata": {
    "slideshow": {
     "slide_type": "slide"
    }
   },
   "source": [
    "### Similars \n",
    "   - **Displayed in many different contexts**\n",
    "        - In response to user actions/context (search, list add…)\n",
    "   - **Because you watched… rows**\n",
    "<center><img src=\"img/similar2.jpg\" style=\"width:70%; height:auto;\"/></center>"
   ]
  },
  {
   "cell_type": "markdown",
   "metadata": {
    "slideshow": {
     "slide_type": "slide"
    }
   },
   "source": [
    "## Similars: Related Questions\n",
    "\n",
    "- Given interest in question A (source), what other questions will be interesting?\n",
    "- Not only about similarity, but also \"interestingness\"\n",
    "- Features such as:\n",
    "  - Textual\n",
    "  - Co-visit\n",
    "  - Topics\n",
    "  - ...\n",
    "- Important for logged-out use case\n",
    "\n",
    "<div style=\"text-align: center;\">\n",
    "    <img src=\"img/similar21.jpg\" style=\"width:40%; height:auto; display: inline-block; float: right; margin-left: 2%;\" />\n",
    "</div>\n"
   ]
  },
  {
   "cell_type": "markdown",
   "metadata": {
    "slideshow": {
     "slide_type": "slide"
    }
   },
   "source": [
    "## Similars: Graph Base\n",
    "\n",
    "<center><img src=\"img/gsimilar.jpg\" style=\"width:60%; height:auto;\"/></center>"
   ]
  },
  {
   "cell_type": "markdown",
   "metadata": {
    "slideshow": {
     "slide_type": "slide"
    }
   },
   "source": [
    "## Example of Graph-Based Similarity: SimRank\n",
    "\n",
    "- **SimRank** (Jeh & Widom, 02): \"two objects are similar if they are referenced by similar objects.\"\n",
    "\n",
    "<div style=\"text-align: center;\">\n",
    "    <img src=\"img/gsimex12.jpg\" style=\"width:45%; height:auto; display: inline-block; margin-right: 2%;\" />\n",
    "    <img src=\"img/gsimex1.jpg\" style=\"width:45%; height:auto; display: inline-block;\" />\n",
    "</div>\n"
   ]
  },
  {
   "cell_type": "markdown",
   "metadata": {
    "slideshow": {
     "slide_type": "slide"
    }
   },
   "source": [
    "## Similarity Ensembles\n",
    "\n",
    "- Similarity can refer to different dimensions:\n",
    "  - Similar in metadata/tags\n",
    "  - Similar in user play behavior\n",
    "  - Similar in user rating behavior\n",
    "  - ...\n",
    "- Combine them using an ensemble:\n",
    "  - Weights are learned using regression over existing response\n",
    "  - Or... some MAB explore/exploit approach\n",
    "- The final concept of \"similarity\" responds to what users vote as similar"
   ]
  },
  {
   "cell_type": "markdown",
   "metadata": {
    "slideshow": {
     "slide_type": "slide"
    }
   },
   "source": [
    "## 4.2 Social Recommendations\n"
   ]
  },
  {
   "cell_type": "markdown",
   "metadata": {
    "slideshow": {
     "slide_type": "slide"
    }
   },
   "source": [
    "\n",
    "## Examples\n",
    "\n",
    "- Quora people recommendations\n",
    "- Spotify’s Friend activity\n",
    "- LinkedIn’s feed recommendations\n",
    "- ...\n",
    "\n",
    "<div style=\"text-align: center;\">\n",
    "    <img src=\"img/exp22.jpg\" style=\"width:45%; height:auto; display: inline-block; margin-right: 2%;\" />\n",
    "    <img src=\"img/exp21.jpg\" style=\"width:45%; height:auto; display: inline-block;\" />\n",
    "</div>\n"
   ]
  },
  {
   "cell_type": "markdown",
   "metadata": {
    "slideshow": {
     "slide_type": "slide"
    }
   },
   "source": [
    "## Social and Trust-based Recommenders\n",
    "\n",
    "- A social recommender system recommends items that are \"popular\" in the social proximity of the user.\n",
    "- Social proximity = trust (can also be topic-specific)\n",
    "- Given two individuals - the source (node A) and sink (node C) - derive how much the source should trust the sink.\n",
    "- Classic algorithms:\n",
    "  - Advogato (Levien)\n",
    "  - Appleseed (Ziegler and Lausen)\n",
    "  - MoleTrust (Massa and Avesani)\n",
    "  - TidalTrust (Golbeck)\n",
    "\n",
    "<div style=\"text-align: center;\">\n",
    "    <img src=\"img/str.jpg\" style=\"width:45%; height:auto; display: inline-block; margin-right: 2%;\" />\n",
    "</div>\n"
   ]
  },
  {
   "cell_type": "markdown",
   "metadata": {
    "slideshow": {
     "slide_type": "slide"
    }
   },
   "source": [
    "\n",
    "## Other Ways to Use Social\n",
    "\n",
    "- Social connections can be used in combination with other approaches.\n",
    "- In particular, \"friendships\" can be fed into collaborative filtering methods in different ways:\n",
    "  - Replace or modify user-user \"similarity\" by using social network information.\n",
    "  - Use social connection as a part of the ML objective function as regularizer\n",
    "  - ...\n"
   ]
  },
  {
   "cell_type": "markdown",
   "metadata": {
    "slideshow": {
     "slide_type": "slide"
    }
   },
   "source": [
    "## User Trust/Expertise Inference at Quora\n",
    "\n",
    "- **Goal:** Infer user’s trustworthiness in relation to a given topic.\n",
    "- We take into account:\n",
    "  - Answers written on topic\n",
    "  - Upvotes/downvotes received\n",
    "  - Endorsements\n",
    "  - ...\n",
    "- Trust/expertise propagates through the network\n",
    "- Must be taken into account by other algorithms\n",
    "<div style=\"text-align: center;\">\n",
    "    <img src=\"img/ppl.jpg\" style=\"width:45%; height:auto; display: inline-block; margin-right: 2%;\" />\n",
    "</div>\n"
   ]
  },
  {
   "cell_type": "markdown",
   "metadata": {
    "slideshow": {
     "slide_type": "slide"
    }
   },
   "source": [
    "## 4.3 Page Optimization\n"
   ]
  },
  {
   "cell_type": "markdown",
   "metadata": {
    "slideshow": {
     "slide_type": "slide"
    }
   },
   "source": [
    "## Page Composition\n",
    "\n",
    "![Page Composition](img/page_composition_1.jpg)"
   ]
  },
  {
   "cell_type": "markdown",
   "metadata": {
    "slideshow": {
     "slide_type": "slide"
    }
   },
   "source": [
    "## Full-page Optimization\n",
    "\n",
    "- Recommendations are rarely displayed in isolation\n",
    "  - Rankings are combined with many other elements to make a page\n",
    "- Want to optimize the whole page\n",
    "- Jointly solving for set of items and their placement\n",
    "- While incorporating:\n",
    "  - Diversity, freshness, exploration\n",
    "  - Depth and coverage of the item set\n",
    "  - Non-recommendation elements (navigation, editorial, etc.)\n",
    "- Needs work hand-in-hand with the UX\n",
    "\n",
    "![Full-page Optimization](img/full_page_optimization1.jpg)\n",
    "![Full-page Optimization](img/full_page_optimization2.jpg)"
   ]
  },
  {
   "cell_type": "markdown",
   "metadata": {
    "slideshow": {
     "slide_type": "slide"
    }
   },
   "source": [
    "## Page Composition\n",
    "\n",
    "![Page Composition](img/page_composition_2.jpg)\n",
    "\n",
    "> From \"Modeling User Attention and Interaction on the Web\" 2014 - PhD Thesis by Dmitry Lagun (Emory U.)\n"
   ]
  },
  {
   "cell_type": "markdown",
   "metadata": {
    "slideshow": {
     "slide_type": "slide"
    }
   },
   "source": [
    "## User Attention Modeling\n",
    "\n",
    "![User Attention Modeling](img/user_attention_modeling1.jpg)\n",
    "![User Attention Modeling](img/user_attention_modeling2.jpg)\n",
    "\n",
    "> From \"Modeling User Attention and Interaction on the Web\" 2014 - PhD Thesis by Dmitry Lagun (Emory U.)\n"
   ]
  },
  {
   "cell_type": "markdown",
   "metadata": {
    "slideshow": {
     "slide_type": "slide"
    }
   },
   "source": [
    "## Page Composition\n",
    "\n",
    "<div style=\"font-size: 1.5em; color: #4F3BB8; text-align: center;\">\n",
    "\n",
    "**Accurate** vs. **Diverse**<br>\n",
    "**Discovery** vs. **Continuation**<br>\n",
    "**Depth** vs. **Coverage**<br>\n",
    "**Freshness** vs. **Stability**<br>\n",
    "**Recommendations** vs. **Tasks**\n",
    "</div>\n",
    "\n",
    "* To put things together we need to combine different elements:\n",
    "  - Navigational/Attention Model\n",
    "  - Personalized Relevance Model\n",
    "  - Diversity Model\n",
    "\n",
    "<img src=\"img/page_composition1.jpg\" alt=\"Page Composition 1\" style=\"width:50%; height:auto;\" />\n",
    "<img src=\"img/page_composition22.jpg\" alt=\"Page Composition 2\" style=\"width:50%; height:auto;\" />\n"
   ]
  },
  {
   "cell_type": "markdown",
   "metadata": {
    "slideshow": {
     "slide_type": "slide"
    }
   },
   "source": [
    "# 4.5 Deep Learning\n"
   ]
  },
  {
   "cell_type": "markdown",
   "metadata": {
    "slideshow": {
     "slide_type": "slide"
    }
   },
   "source": [
    "## Explore/Exploit\n",
    "\n",
    "- One of the key issues when building any kind of personalization algorithm is how to trade off:\n",
    "  - **Exploitation**: *Cashing in on what we know about the user right now*  \n",
    "  - **Exploration**: *Using the interaction as an opportunity to learn more about the user*\n",
    "\n",
    "- We need to have informed and optimal strategies to drive that tradeoff:\n",
    "  - **Solution**: *Pick a reasonable set of candidates and show users only \"enough\" to gather information on them*\n"
   ]
  },
  {
   "cell_type": "markdown",
   "metadata": {
    "slideshow": {
     "slide_type": "slide"
    }
   },
   "source": [
    "# Multi-armed Bandits\n",
    "\n",
    "<img src=\"img/arm1.jpg\" alt=\"Page Composition 1\" style=\"width:50%; height:auto;\" />\n",
    "<img src=\"img/arm2.jpg\" alt=\"Page Composition 2\" style=\"width:50%; height:auto;\" />\n",
    "<img src=\"img/arm3.jpg\" alt=\"Page Composition 1\" style=\"width:50%; height:auto;\" />\n",
    "<img src=\"img/arm4.jpg\" alt=\"Page Composition 2\" style=\"width:50%; height:auto;\" />"
   ]
  },
  {
   "cell_type": "markdown",
   "metadata": {
    "slideshow": {
     "slide_type": "slide"
    }
   },
   "source": [
    "## 4.5 Deep Learning"
   ]
  },
  {
   "cell_type": "markdown",
   "metadata": {
    "slideshow": {
     "slide_type": "slide"
    }
   },
   "source": [
    "## Deep Learning for Collaborative Filtering\n",
    "\n",
    "- Spotify uses Recurrent Networks for Playlist Prediction ([link](http://erikbern.com/?p=589))\n",
    "\n",
    "<img src=\"img/DCF.jpg\" alt=\"Page Composition 2\" style=\"width:50%; height:auto;\" />"
   ]
  },
  {
   "cell_type": "markdown",
   "metadata": {
    "slideshow": {
     "slide_type": "slide"
    }
   },
   "source": [
    "## Deep Learning for Collaborative Filtering\n",
    "\n",
    "- In order to predict the next track or movie a user is going to watch, we need to define a distribution $P(y_i|h_i)$\n",
    "  - If we choose Softmax as is common practice, we get:  \n",
    "  $\n",
    "  P(y_i|h_i) = \\frac{\\exp(h_i^T a_j)}{\\sum_k \\exp(h_k^T a_k)}\n",
    "  $\n",
    "      - **Problem**: Denominator (over all examples) is very expensive to compute\n",
    "      - **Solution**: Build a tree that implements a hierarchical softmax\n",
    "- More details on the blog post\n"
   ]
  },
  {
   "cell_type": "markdown",
   "metadata": {},
   "source": [
    "## Deep Learning for Content-based Recommendations\n",
    "\n",
    "- Another application of Deep Learning to recommendations also from Spotify  \n",
    "  - [SPOTIFY](http://benanne.github.io/2014/08/05/spotify-cnns.html) also [Deep content-based music recommendation](https://papers.nips.cc/paper_files/paper/2013/hash/b3ba8f1bee1238a2f37603d90b58898d-Abstract.html)\n",
    "- Application to coldstart new titles when very little CF information is available\n",
    "- Using mel-spectrograms from the audio signal as input\n",
    "- Training the deep neural network to predict 40 latent factors coming from Spotify’s CF solution\n",
    "<img src=\"img/DMCF.jpg\" alt=\"Page Composition 2\" style=\"width:50%; height:auto;\" />"
   ]
  },
  {
   "cell_type": "markdown",
   "metadata": {},
   "source": [
    "<img src=\"img/DLS1.jpg\" alt=\"Page Composition 2\" style=\"width:50%; height:auto;\" />\n",
    "<img src=\"img/DLS2.jpg\" alt=\"Page Composition 2\" style=\"width:50%; height:auto;\" />\n",
    "<img src=\"img/DLS3.jpg\" alt=\"Page Composition 2\" style=\"width:50%; height:auto;\" />\n",
    "<img src=\"img/DLS4.jpg\" alt=\"Page Composition 2\" style=\"width:50%; height:auto;\" />\n",
    "<img src=\"img/DLS5.jpg\" alt=\"Page Composition 2\" style=\"width:50%; height:auto;\" />\n",
    "<img src=\"img/DLS6.jpg\" alt=\"Page Composition 2\" style=\"width:50%; height:auto;\" />"
   ]
  },
  {
   "cell_type": "markdown",
   "metadata": {
    "slideshow": {
     "slide_type": "slide"
    }
   },
   "source": [
    "# 5. Context Aware Recommendations\n"
   ]
  },
  {
   "cell_type": "markdown",
   "metadata": {
    "slideshow": {
     "slide_type": "slide"
    }
   },
   "source": [
    "# N-dimensional model\n",
    "\n",
    "![N-dimensional model](img/CAW1.jpg)\n"
   ]
  },
  {
   "cell_type": "markdown",
   "metadata": {
    "slideshow": {
     "slide_type": "slide"
    }
   },
   "source": [
    "# Tensor Factorization\n",
    "\n",
    "<img src=\"img/TF1.jpg\" alt=\"Page Composition 2\" style=\"width:50%; height:auto;\" />\n",
    "<img src=\"img/TF2.jpg\" alt=\"Page Composition 2\" style=\"width:50%; height:auto;\" />\n",
    "\n",
    "**HOSVD**: Higher Order Singular Value Decomposition\n",
    "\n",
    "<center><small>Multiverse Recommendation: N-dimensional Tensor Factorization for Context-aware Collaborative Filtering</small></center>\n"
   ]
  },
  {
   "cell_type": "markdown",
   "metadata": {
    "slideshow": {
     "slide_type": "slide"
    }
   },
   "source": [
    "# Factorization Machines\n",
    "\n",
    "- Generalization of regularized matrix (and tensor) factorization approaches combined with linear (or logistic) regression\n",
    "- Problem: Each new adaptation of matrix or tensor factorization requires deriving new learning algorithms\n",
    "    - Hard to adapt to new domains and add data sources\n",
    "    - Hard to advance the learning algorithms across approaches\n",
    "    - Hard to incorporate non-categorical variables\n"
   ]
  },
  {
   "cell_type": "markdown",
   "metadata": {
    "slideshow": {
     "slide_type": "slide"
    }
   },
   "source": [
    "# Factorization Machines\n",
    "\n",
    "- Approach: Treat input as a real-valued feature vector\n",
    "    - Model both linear and pair-wise interaction of k features (i.e. polynomial regression)\n",
    "    - Traditional machine learning will overfit\n",
    "    - Factor pairwise interactions between features\n",
    "    - Reduced dimensionality of interactions promote generalization\n",
    "    - Different matrix factorizations become different feature representations\n",
    "    - Tensors: Additional higher-order interactions\n",
    "- Combines \"generality of machine learning/regression with quality of factorization models\"\n"
   ]
  },
  {
   "cell_type": "markdown",
   "metadata": {
    "slideshow": {
     "slide_type": "slide"
    }
   },
   "source": [
    "# Factorization Machines\n",
    "\n",
    "- Each feature gets a weight value and a factor vector\n",
    "    - O(dk) parameters\n",
    "- Each feature gets a weight value and a factor vector\n",
    "  - $O(dk)$ parameters\n",
    "      - $b \\in \\mathbb{R}, \\mathbf{w} \\in \\mathbb{R}^d, \\mathbf{V} \\in \\mathbb{R}^{d \\times k}$\n",
    "\n",
    "- Model equation:\n",
    "\n",
    "  $f(\\mathbf{x}) = b + \\sum_{i=1}^{d} w_i x_i + \\sum_{i=1}^{d} \\sum_{j=i+1}^{d} x_i x_j \\mathbf{v}_i^\\top \\mathbf{v}_j$ - $O(d^2)$\n",
    "\n",
    "  $= b + \\sum_{i=1}^{d} w_i x_i + \\frac{1}{2} \\sum_{f=1}^{k} \\left( \\left( \\sum_{i=1}^{d} x_i v_{i,f} \\right)^2 - \\sum_{i=1}^{d} x_i^2 v_{i,f}^2 \\right)$ - $O(kd)$\n",
    "\n"
   ]
  },
  {
   "cell_type": "markdown",
   "metadata": {
    "slideshow": {
     "slide_type": "slide"
    }
   },
   "source": [
    "# Factorization Machines\n",
    "\n",
    "- Two categorical variables (u, i) encoded as real values:\n",
    "    - FM becomes identical to MF with biases:\n",
    "        - ![Factorization Machines Formula](img/FMT1.jpg)\n",
    "- FM becomes identical to MF with biases:\n",
    "\n",
    "  $f(\\mathbf{x}) = b + w_u + w_i + \\mathbf{v}_u^\\top \\mathbf{v}_i$\n",
    "\n",
    "  *From Rendle (2012) KDD Tutorial*\n",
    "\n"
   ]
  },
  {
   "cell_type": "markdown",
   "metadata": {
    "slideshow": {
     "slide_type": "slide"
    }
   },
   "source": [
    "# Factorization Machines\n",
    "\n",
    "- Makes it easy to add a time signal\n",
    "    - Equivalent equation:\n",
    "        - ![Factorization Machines Time Signal Equation](img/FMT2.jpg)\n",
    "\n",
    "- Equivalent equation:\n",
    "\n",
    "  $f(\\mathbf{x}) = b + w_u + w_i + x_t w_t + \\mathbf{v}_u^\\top \\mathbf{v}_i + x_t \\mathbf{v}_u^\\top \\mathbf{v}_t + x_t \\mathbf{v}_i^\\top \\mathbf{v}_t$\n",
    "\n",
    "  *From Rendle (2012) KDD Tutorial*"
   ]
  },
  {
   "cell_type": "markdown",
   "metadata": {
    "slideshow": {
     "slide_type": "slide"
    }
   },
   "source": [
    "# Factorization Machines (Rendle, 2010)\n",
    "\n",
    "- **L2 regularized**\n",
    "  - Regression: Optimize RMSE\n",
    "  - Classification: Optimize logistic log-likelihood\n",
    "  - Ranking: Optimize scores\n",
    "\n",
    "- **Can be trained using:**\n",
    "  - SGD\n",
    "  - Adaptive SGD\n",
    "  - ALS\n",
    "  - MCMC\n",
    "\n",
    "- **Gradient:**\n",
    "\n",
    "  $\\frac{\\partial}{\\partial \\theta} f(\\mathbf{x}) = \\begin{cases}\n",
    "  1 & \\text{if } \\theta \\text{ is } b \\\\\n",
    "  x_i & \\text{if } \\theta \\text{ is } w_i \\\\\n",
    "  x_i \\sum_{j=1}^{d} v_{j,f} x_j - v_{i,f} x_i^2 & \\text{if } \\theta \\text{ is } v_{i,f}\n",
    "  \\end{cases}$\n",
    "\n",
    "- **Least squares SGD:**\n",
    "\n",
    "  $\\theta' = \\theta - \\eta \\left( \\left( f(\\mathbf{x}) - y \\right) \\frac{\\partial}{\\partial \\theta} f(\\mathbf{x}) + \\lambda \\theta \\right)$\n"
   ]
  },
  {
   "cell_type": "markdown",
   "metadata": {
    "slideshow": {
     "slide_type": "slide"
    }
   },
   "source": [
    "# Factorization Machines (Rendle, 2010)\n",
    "\n",
    "- Learning parameters:\n",
    "    - Number of factors\n",
    "    - Iterations\n",
    "    - Initialization scale\n",
    "    - Regularization (SGD, ALS) – Multiple\n",
    "    - Step size (SGD, A-SGD)\n",
    "    - MCMC removes the need to set those hyperparameters\n"
   ]
  },
  {
   "cell_type": "markdown",
   "metadata": {
    "slideshow": {
     "slide_type": "slide"
    }
   },
   "source": [
    "## 6. Warning: The right evaluation might matter more than the model you choose\n"
   ]
  },
  {
   "cell_type": "markdown",
   "metadata": {
    "slideshow": {
     "slide_type": "slide"
    }
   },
   "source": [
    "## Offline/Online Testing Process\n",
    "<img src=\"img/OF1.jpg\" alt=\"Page Composition 2\" style=\"width:100%; height:auto;\" />\n"
   ]
  },
  {
   "cell_type": "markdown",
   "metadata": {},
   "source": [
    "## Executing A/B Tests\n",
    "<img src=\"img/OF2.jpg\" alt=\"Page Composition 2\" style=\"width:100%; height:auto;\" />"
   ]
  },
  {
   "cell_type": "markdown",
   "metadata": {
    "slideshow": {
     "slide_type": "slide"
    }
   },
   "source": [
    "## Offline Testing\n",
    "\n",
    "<img src=\"img/OF4.jpg\" alt=\"Page Composition 2\" style=\"width:100%; height:auto;\" />\n"
   ]
  },
  {
   "cell_type": "markdown",
   "metadata": {
    "slideshow": {
     "slide_type": "slide"
    }
   },
   "source": [
    "\n",
    "## Offline Metrics\n",
    "\n",
    "- For baseline metrics, prefer ranking or ranking-related metrics\n",
    "- You might want to measure other aspects of the recommendation such as diversity (Maximum Marginal Relevance) or novelty\n",
    "- In practice, you should keep a bank of metrics that you measure offline and over time connect to your online A/B test results, running posthoc analysis\n",
    "- Find short-term surrogates that map to long-term improvements\n",
    "\n",
    "<img src=\"img/OF41.jpg\" alt=\"Page Composition 2\" style=\"width:50%; height:auto;\" />\n",
    "<img src=\"img/OF42.jpg\" alt=\"Page Composition 2\" style=\"width:50%; height:auto;\" />\n",
    "<img src=\"img/OF43.jpg\" alt=\"Page Composition 2\" style=\"width:50%; height:auto;\" />"
   ]
  }
 ],
 "metadata": {
  "accelerator": "GPU",
  "celltoolbar": "Slideshow",
  "colab": {
   "collapsed_sections": [],
   "name": "neural-ode.ipynb",
   "provenance": []
  },
  "kernelspec": {
   "display_name": "Python 3 (ipykernel)",
   "language": "python",
   "name": "python3"
  },
  "language_info": {
   "codemirror_mode": {
    "name": "ipython",
    "version": 3
   },
   "file_extension": ".py",
   "mimetype": "text/x-python",
   "name": "python",
   "nbconvert_exporter": "python",
   "pygments_lexer": "ipython3",
   "version": "3.11.5"
  },
  "rise": {
   "controlsTutorial": false,
   "height": 900,
   "help": false,
   "margin": 0,
   "maxScale": 2,
   "minScale": 0.2,
   "progress": true,
   "scroll": true,
   "theme": "simple",
   "width": 1200
  }
 },
 "nbformat": 4,
 "nbformat_minor": 4
}
